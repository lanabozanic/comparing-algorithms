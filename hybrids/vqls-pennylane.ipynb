{
 "cells": [
  {
   "cell_type": "markdown",
   "metadata": {},
   "source": [
    "### VQSL EXAMPLE"
   ]
  },
  {
   "cell_type": "code",
   "execution_count": null,
   "metadata": {},
   "outputs": [],
   "source": [
    "# CODE CREDITS: https://pennylane.ai/qml/demos/tutorial_vqls.html"
   ]
  },
  {
   "cell_type": "markdown",
   "metadata": {},
   "source": [
    "*note*\n",
    "\n",
    "things to possibly experiment with:\n",
    "- different problem sizes\n",
    "- differents etas\n",
    "- different spreads of inital weights"
   ]
  },
  {
   "cell_type": "markdown",
   "metadata": {},
   "source": [
    "### Overview of the Variational Quantum Linear Solver Algorithm\n",
    "The problem of solving linear systems of equations is one that has an application in many fields, such as ML, and AI.\n",
    "\n",
    "When the problem gets very large, its compute time gets very large as well, and doesn't scale efficiently. For this reason, we look to quantum computers to help us speed up the problem solving. \n",
    "\n",
    "Unfortunately, the originally proposed quantum algorithm used to solve this problem, called the HHL algorithm, cannot be effeciently implemented on today's NISQ hardware. For this reason, the **VQLS** algorithm is a promising candidate for solving linear systems problems in the near term.\n",
    "\n",
    "Say we have a a linear solving problem that we hope to solve. This problem can be represented as a $2^N$ x $2^N$ matrix A, (where N is the problem size). This matrix can be expressed as a combination of $L$ unitary matricies. \n",
    "\n",
    "i.e. $A = A_1 + A_2 + ... + A_L$ \n",
    "\n",
    "The objective is to find a quantum solution state, $|x\\rangle$, such that $A|x\\rangle$ is proportional to vector $|b\\rangle$\n",
    "\n",
    "i.e.\n",
    "$|\\Psi\\rangle := \\cfrac{A|x\\rangle}{\\sqrt{\\langle x|A^{\\dagger} A|x\\rangle}} \\approx |b\\rangle$\n",
    "\n",
    "The steps that the VQLS algorithm takes to solve this problem as as follows:\n",
    "1. Encode both the problem matrix $A$ and problem vector $|b\\rangle$ (A is assumed to be a combination of Pauli operators $A = \\sum_{l=1}^{L} c_l\\sigma_l$)\n",
    "2. Create a variational circuit / unitary circuit $V$ that depends on a finite number of classical real parameters $a=(a_0,a_1,…a_n)$ that prepared a potential solution, $|x\\rangle = V(a)|0\\rangle$\n",
    "3. The parameters $a$ arinputted to a quantum computer, to prepare $|x(a)\\rangle$ \n",
    "4. Run an efficient quantum circuit that estimates a cost function, $C(a)$\n",
    "5. Optimize parameter $a$ in attempt to minimize $C(a)$\n",
    "6. Repeat steps 2-5 until a convegence criteria is met.\n",
    "\n",
    "The cost function is generally defined as:\n",
    "$C = 1- |\\langle\\Psi|b\\rangle|^2$,\n",
    "\n",
    "where $|\\langle\\Psi|b\\rangle|^2$ defines the overlap between the solution and vector problem.\n",
    "\n",
    "One can either use a a global or a local cost function. Generally, the local cost function will provide results faster, whereas the global cost function will provide more accuracte solutions.\n",
    "\n",
    "1. $\\hat{C}_G = \\langle x|H_G|x\\rangle$,\n",
    "\n",
    "where $\\langle x|H_G|x\\rangle =$ $A^{\\dagger} (1=|b\\rangle\\langle b|)A$\n",
    "\n",
    "2. $\\hat{C}_L = \\langle x|H_L|x\\rangle$\n",
    "\n",
    "where $\\langle x|H_L|x\\rangle = A^{\\dagger}U(1 - \\cfrac{1}{n}\\sum\\limits_{j=1}^n|0_j\\rangle\\langle0_j|\\otimes 1_j)U^{\\dagger}A $"
   ]
  },
  {
   "cell_type": "code",
   "execution_count": 15,
   "metadata": {},
   "outputs": [],
   "source": [
    "# Pennylane\n",
    "import pennylane as qml\n",
    "from pennylane import numpy as np\n",
    "\n",
    "# Plotting\n",
    "import matplotlib.pyplot as plt\n",
    "import math"
   ]
  },
  {
   "cell_type": "code",
   "execution_count": 134,
   "metadata": {},
   "outputs": [],
   "source": [
    "n_qubits = 9  # Number of system qubits.\n",
    "n_shots = 10 ** 6  # Number of quantum measurements.\n",
    "tot_qubits = n_qubits + 1  # Addition of an ancillary qubit.\n",
    "ancilla_idx = n_qubits  # Index of the ancillary qubit (last position).\n",
    "steps = 30  # Number of optimization steps\n",
    "eta = 0.8  # Learning rate\n",
    "q_delta = 0.001  # Initial spread of random quantum weights\n",
    "rng_seed = 0  # Seed for random number generator"
   ]
  },
  {
   "cell_type": "code",
   "execution_count": 135,
   "metadata": {},
   "outputs": [],
   "source": [
    "# Coefficients of the linear combination A = c_0 A_0 + c_1 A_1 ...\n",
    "c = np.array([1.0, 0.2, 0.2, 0.2, 0.3, 0.5, 0.5 ])\n",
    "\n",
    "def U_b():\n",
    "    \"\"\"Unitary matrix rotating the ground state to the problem vector |b> = U_b |0>.\"\"\"\n",
    "    for idx in range(n_qubits):\n",
    "        qml.Hadamard(wires=idx)\n",
    "\n",
    "def CA(idx):\n",
    "    \"\"\"Controlled versions of the unitary components A_l of the problem matrix A.\"\"\"\n",
    "    if idx == 0:\n",
    "        # Identity operation\n",
    "        None\n",
    "\n",
    "    elif idx == 1:\n",
    "        qml.CNOT(wires=[ancilla_idx, 0])\n",
    "        qml.CZ(wires=[ancilla_idx, 1])\n",
    "\n",
    "    elif idx == 2:\n",
    "        qml.CNOT(wires=[ancilla_idx, 0])\n",
    "    elif idx == 3:\n",
    "        qml.CNOT(wires=[ancilla_idx, 1])\n",
    "        qml.CZ(wires=[ancilla_idx, 2])\n",
    "    \n",
    "    elif idx == 4:\n",
    "        qml.CNOT(wires=[ancilla_idx, 1])\n",
    "    elif idx == 5:\n",
    "        qml.CNOT(wires=[ancilla_idx, 2])\n",
    "        qml.CZ(wires=[ancilla_idx, 4])\n",
    "        \n",
    "    elif idx == 6:\n",
    "        qml.CNOT(wires=[ancilla_idx, 2])\n",
    "    elif idx == 7:\n",
    "        qml.CNOT(wires=[ancilla_idx, 3])\n",
    "        qml.CZ(wires=[ancilla_idx, 7])\n",
    "\n"
   ]
  },
  {
   "cell_type": "code",
   "execution_count": 136,
   "metadata": {},
   "outputs": [],
   "source": [
    "def variational_block(weights):\n",
    "    \"\"\"Variational circuit mapping the ground state |0> to the ansatz state |x>.\"\"\"\n",
    "    # We first prepare an equal superposition of all the states of the computational basis.\n",
    "    for idx in range(n_qubits):\n",
    "        qml.Hadamard(wires=idx)\n",
    "\n",
    "    # A very minimal variational circuit.\n",
    "    for idx, element in enumerate(weights):\n",
    "        qml.RY(element, wires=idx)"
   ]
  },
  {
   "cell_type": "code",
   "execution_count": 137,
   "metadata": {},
   "outputs": [],
   "source": [
    "dev_mu = qml.device(\"default.qubit\", wires=tot_qubits)\n",
    "\n",
    "@qml.qnode(dev_mu)\n",
    "def local_hadamard_test(weights, l=None, lp=None, j=None, part=None):\n",
    "\n",
    "    # First Hadamard gate applied to the ancillary qubit.\n",
    "    qml.Hadamard(wires=ancilla_idx)\n",
    "\n",
    "    # For estimating the imaginary part of the coefficient \"mu\", we must add a \"-i\" phase gate.\n",
    "    if part == \"Im\" or part == \"im\":\n",
    "        qml.PhaseShift(-np.pi / 2, wires=ancilla_idx)\n",
    "\n",
    "    # Variational circuit generating a guess for the solution vector |x>\n",
    "    variational_block(weights)\n",
    "\n",
    "    # Controlled application of the unitary component A_l of the problem matrix A.\n",
    "    CA(l)\n",
    "\n",
    "    # Adjoint of the unitary U_b associated to the problem vector |b>.\n",
    "    # In this specific example Adjoint(U_b) = U_b.\n",
    "    U_b()\n",
    "\n",
    "    # Controlled Z operator at position j. If j = -1, apply the identity.\n",
    "    if j != -1:\n",
    "        qml.CZ(wires=[ancilla_idx, j])\n",
    "\n",
    "    # Unitary U_b associated to the problem vector |b>.\n",
    "    U_b()\n",
    "\n",
    "    # Controlled application of Adjoint(A_lp).\n",
    "    # In this specific example Adjoint(A_lp) = A_lp.\n",
    "    CA(lp)\n",
    "\n",
    "    # Second Hadamard gate applied to the ancillary qubit.\n",
    "    qml.Hadamard(wires=ancilla_idx)\n",
    "\n",
    "    # Expectation value of Z for the ancillary qubit.\n",
    "    return qml.expval(qml.PauliZ(wires=ancilla_idx))"
   ]
  },
  {
   "cell_type": "code",
   "execution_count": 138,
   "metadata": {},
   "outputs": [],
   "source": [
    "def mu(weights, l=None, lp=None, j=None):\n",
    "    \"\"\"Generates the coefficients to compute the \"local\" cost function C_L.\"\"\"\n",
    "\n",
    "    mu_real = local_hadamard_test(weights, l=l, lp=lp, j=j, part=\"Re\")\n",
    "    mu_imag = local_hadamard_test(weights, l=l, lp=lp, j=j, part=\"Im\")\n",
    "\n",
    "    return mu_real + 1.0j * mu_imag"
   ]
  },
  {
   "cell_type": "code",
   "execution_count": 139,
   "metadata": {},
   "outputs": [],
   "source": [
    "def psi_norm(weights):\n",
    "    \"\"\"Returns the normalization constant <psi|psi>, where |psi> = A |x>.\"\"\"\n",
    "    norm = 0.0\n",
    "\n",
    "    for l in range(0, len(c)):\n",
    "        for lp in range(0, len(c)):\n",
    "            norm = norm + c[l] * np.conj(c[lp]) * mu(weights, l, lp, -1)\n",
    "\n",
    "    return abs(norm)"
   ]
  },
  {
   "cell_type": "code",
   "execution_count": 140,
   "metadata": {},
   "outputs": [],
   "source": [
    "def cost_loc(weights):\n",
    "    \"\"\"Local version of the cost function, which tends to zero when A |x> is proportional to |b>.\"\"\"\n",
    "    mu_sum = 0.0\n",
    "\n",
    "    for l in range(0, len(c)):\n",
    "        for lp in range(0, len(c)):\n",
    "            for j in range(0, n_qubits):\n",
    "                mu_sum = mu_sum + c[l] * np.conj(c[lp]) * mu(weights, l, lp, j)\n",
    "\n",
    "    mu_sum = abs(mu_sum)\n",
    "\n",
    "    # Cost function C_L\n",
    "    return 0.5 - 0.5 * mu_sum / (n_qubits * psi_norm(weights))\n"
   ]
  },
  {
   "cell_type": "code",
   "execution_count": 141,
   "metadata": {},
   "outputs": [],
   "source": [
    "opt = qml.GradientDescentOptimizer(eta)"
   ]
  },
  {
   "cell_type": "code",
   "execution_count": 144,
   "metadata": {},
   "outputs": [
    {
     "name": "stdout",
     "output_type": "stream",
     "text": [
      "Step   0       Cost_L = 0.0080091\n",
      "Step   5       Cost_L = 0.0061964\n",
      "Step  10       Cost_L = 0.0047693\n",
      "Step  15       Cost_L = 0.0036754\n",
      "Step  20       Cost_L = 0.0028558\n",
      "Step  25       Cost_L = 0.0022521\n"
     ]
    }
   ],
   "source": [
    "import time\n",
    "\n",
    "np.random.seed(rng_seed)\n",
    "w = q_delta * np.random.randn(n_qubits)\n",
    "\n",
    "start = time.time()\n",
    "cost_history = []\n",
    "for it in range(steps):\n",
    "    w = opt.step(cost_loc, w)\n",
    "    cost = cost_loc(w)\n",
    "    \n",
    "    if it % 5 == 0:\n",
    "        print(\"Step {:3d}       Cost_L = {:9.7f}\".format(it, cost))\n",
    "        \n",
    "    cost_history.append(cost)\n",
    "end = time.time() - start"
   ]
  },
  {
   "cell_type": "code",
   "execution_count": 145,
   "metadata": {},
   "outputs": [
    {
     "name": "stdout",
     "output_type": "stream",
     "text": [
      "1442.179147\n"
     ]
    }
   ],
   "source": [
    "print('{:5f}'.format(end))"
   ]
  },
  {
   "cell_type": "code",
   "execution_count": 119,
   "metadata": {},
   "outputs": [
    {
     "data": {
      "image/png": "[encoded data removed]",
      "text/plain": [
       "<Figure size 576x396 with 1 Axes>"
      ]
     },
     "metadata": {},
     "output_type": "display_data"
    }
   ],
   "source": [
    "plt.style.use(\"seaborn\")\n",
    "plt.plot(cost_history, \"g\")\n",
    "plt.ylabel(\"Cost function\", fontsize=18)\n",
    "plt.xlabel(\"Optimization sts\", fontsize=18)\n",
    "plt.show()"
   ]
  },
  {
   "cell_type": "code",
   "execution_count": 27,
   "metadata": {},
   "outputs": [
    {
     "ename": "NameError",
     "evalue": "name 'q_probs' is not defined",
     "output_type": "error",
     "traceback": [
      "\u001b[0;31m---------------------------------------------------------------------------\u001b[0m",
      "\u001b[0;31mNameError\u001b[0m                                 Traceback (most recent call last)",
      "\u001b[0;32m<ipython-input-27-5fc16e9419c3>\u001b[0m in \u001b[0;36m<module>\u001b[0;34m\u001b[0m\n\u001b[0;32m----> 1\u001b[0;31m \u001b[0mprint\u001b[0m\u001b[0;34m(\u001b[0m\u001b[0mq_probs\u001b[0m\u001b[0;34m)\u001b[0m\u001b[0;34m\u001b[0m\u001b[0;34m\u001b[0m\u001b[0m\n\u001b[0m",
      "\u001b[0;31mNameError\u001b[0m: name 'q_probs' is not defined"
     ]
    }
   ],
   "source": [
    "print(q_probs)"
   ]
  },
  {
   "cell_type": "code",
   "execution_count": null,
   "metadata": {},
   "outputs": [],
   "source": []
  }
 ],
 "metadata": {
  "kernelspec": {
   "display_name": "Python 3",
   "language": "python",
   "name": "python3"
  },
  "language_info": {
   "codemirror_mode": {
    "name": "ipython",
    "version": 3
   },
   "file_extension": ".py",
   "mimetype": "text/x-python",
   "name": "python",
   "nbconvert_exporter": "python",
   "pygments_lexer": "ipython3",
   "version": "3.7.4"
  }
 },
 "nbformat": 4,
 "nbformat_minor": 2
}
