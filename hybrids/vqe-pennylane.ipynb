{
 "cells": [
  {
   "cell_type": "markdown",
   "metadata": {},
   "source": [
    "#### To conduct different experiements, the only thing that needs to be changed is:\n",
    "- the name of the molecule\n",
    "- the molecule's path (check out the molecules folder for whats available\n",
    "- (optional) number of active of active orbitals and electrons\n",
    "- ansatz (modify the ansatz based on the number of qubits)"
   ]
  },
  {
   "cell_type": "code",
   "execution_count": 1,
   "metadata": {},
   "outputs": [],
   "source": [
    "#import packages\n",
    "import numpy as np\n",
    "import pennylane as qml\n",
    "from pennylane import expval, var, device\n",
    "pi = np.pi"
   ]
  },
  {
   "cell_type": "code",
   "execution_count": 2,
   "metadata": {},
   "outputs": [
    {
     "name": "stdout",
     "output_type": "stream",
     "text": [
      "(-0.04207897647782277) [I0]\n",
      "+ (0.17771287465139946) [Z0]\n",
      "+ (0.1777128746513994) [Z1]\n",
      "+ (-0.2427428051314046) [Z2]\n",
      "+ (-0.24274280513140462) [Z3]\n",
      "+ (0.17059738328801055) [Z0 Z1]\n",
      "+ (0.04475014401535163) [Y0 X1 X2 Y3]\n",
      "+ (-0.04475014401535163) [Y0 Y1 X2 X3]\n",
      "+ (-0.04475014401535163) [X0 X1 Y2 Y3]\n",
      "+ (0.04475014401535163) [X0 Y1 Y2 X3]\n",
      "+ (0.12293305056183797) [Z0 Z2]\n",
      "+ (0.1676831945771896) [Z0 Z3]\n",
      "+ (0.1676831945771896) [Z1 Z2]\n",
      "+ (0.12293305056183797) [Z1 Z3]\n",
      "+ (0.1762764080431959) [Z2 Z3] \n",
      " 4\n"
     ]
    }
   ],
   "source": [
    "name ='H2';charge = 0;multiplicity=1;basis= 'sto-3g';geometry = 'molecules/h2.xyz';\n",
    "h, nr_qubits = qml.qchem.generate_hamiltonian(\n",
    "    name,\n",
    "    geometry,\n",
    "    charge,\n",
    "    multiplicity,\n",
    "    basis,\n",
    "    mapping='jordan_wigner',\n",
    "    n_active_orbitals=2,\n",
    "    n_active_electrons=2,\n",
    ")\n",
    "print(h, '\\n', nr_qubits)"
   ]
  },
  {
   "cell_type": "code",
   "execution_count": 3,
   "metadata": {},
   "outputs": [],
   "source": [
    "dev = qml.device(\"default.qubit\", wires=4)\n",
    "def ansatz(params, wires=[0,1,2,3]):\n",
    "    for i in wires:\n",
    "        qml.RY(params[i], wires=wires[i])\n",
    "    qml.CNOT(wires=[wires[0], wires[1]])\n",
    "    qml.CNOT(wires=[wires[2], wires[3]])\n",
    "    qml.CNOT(wires=[wires[1], wires[2]])\n",
    "\n",
    "    for i in wires:\n",
    "        qml.RY(params[i+nr_qubits], wires=wires[i])\n",
    "    qml.CNOT(wires=[wires[0], wires[1]])\n",
    "    qml.CNOT(wires=[wires[2], wires[3]])\n",
    "    qml.CNOT(wires=[wires[1], wires[2]])\n",
    "\n",
    "\n",
    "initial_params = np.random.uniform(low=0, high=2*np.pi, size=(nr_qubits * 2))"
   ]
  },
  {
   "cell_type": "code",
   "execution_count": 4,
   "metadata": {},
   "outputs": [
    {
     "data": {
      "text/plain": [
       "0.06482908016061503"
      ]
     },
     "execution_count": 4,
     "metadata": {},
     "output_type": "execute_result"
    }
   ],
   "source": [
    "cost = qml.VQECost(ansatz, h, dev)\n",
    "cost(initial_params)"
   ]
  },
  {
   "cell_type": "code",
   "execution_count": 5,
   "metadata": {},
   "outputs": [
    {
     "name": "stdout",
     "output_type": "stream",
     "text": [
      "Iteration =  0 Ground-state energy =  0.06157862114221477 Ha Convergence parameter = 0.0032504590184002646 Ha\n",
      "Iteration =  20 Ground-state energy =  -0.017712062265036355 Ha Convergence parameter = 0.0045818070410073575 Ha\n",
      "Iteration =  40 Ground-state energy =  -0.11735348390219867 Ha Convergence parameter = 0.005134210577371248 Ha\n",
      "Iteration =  60 Ground-state energy =  -0.21332854074713217 Ha Convergence parameter = 0.004307525371302606 Ha\n",
      "Iteration =  80 Ground-state energy =  -0.28460264922986556 Ha Convergence parameter = 0.0028919909578638547 Ha\n",
      "Iteration =  100 Ground-state energy =  -0.33027636810144556 Ha Convergence parameter = 0.0018211382363180761 Ha\n",
      "Iteration =  120 Ground-state energy =  -0.360187363543274 Ha Convergence parameter = 0.0012711290216919635 Ha\n",
      "Iteration =  140 Ground-state energy =  -0.38291072059189585 Ha Convergence parameter = 0.0010482994694354653 Ha\n",
      "Iteration =  160 Ground-state energy =  -0.402834165126575 Ha Convergence parameter = 0.0009588909056613137 Ha\n",
      "Iteration =  180 Ground-state energy =  -0.4213107176945815 Ha Convergence parameter = 0.0008902516936244442 Ha\n",
      "Iteration =  200 Ground-state energy =  -0.4381971955762601 Ha Convergence parameter = 0.0007980895297989288 Ha\n",
      "Iteration =  220 Ground-state energy =  -0.45296254253374346 Ha Convergence parameter = 0.000681436917161049 Ha\n",
      "Iteration =  240 Ground-state energy =  -0.46528698642994604 Ha Convergence parameter = 0.000557614435925613 Ha\n",
      "Iteration =  260 Ground-state energy =  -0.47521549528028467 Ha Convergence parameter = 0.00044357259415550576 Ha\n",
      "Iteration =  280 Ground-state energy =  -0.4830513882905063 Ha Convergence parameter = 0.00034818407585585076 Ha\n",
      "Iteration =  300 Ground-state energy =  -0.48919264298379905 Ha Convergence parameter = 0.00027291096279047355 Ha\n",
      "Iteration =  320 Ground-state energy =  -0.49401925304861694 Ha Convergence parameter = 0.00021526661870469033 Ha\n",
      "Iteration =  340 Ground-state energy =  -0.49784599655364803 Ha Convergence parameter = 0.00017161720847835849 Ha\n",
      "Iteration =  360 Ground-state energy =  -0.500916260514461 Ha Convergence parameter = 0.00013857817012219442 Ha\n",
      "Iteration =  380 Ground-state energy =  -0.5034126506117893 Ha Convergence parameter = 0.0001134440386748592 Ha\n",
      "Iteration =  400 Ground-state energy =  -0.5054708939802453 Ha Convergence parameter = 9.418089901402915e-05 Ha\n",
      "Iteration =  420 Ground-state energy =  -0.5071919080876394 Ha Convergence parameter = 7.929008157303574e-05 Ha\n",
      "Iteration =  440 Ground-state energy =  -0.5086510018955548 Ha Convergence parameter = 6.766869957641752e-05 Ha\n",
      "Iteration =  460 Ground-state energy =  -0.5099045927314824 Ha Convergence parameter = 5.850079666014363e-05 Ha\n",
      "Iteration =  480 Ground-state energy =  -0.5109950800837566 Ha Convergence parameter = 5.1179291350234024e-05 Ha\n",
      "313.8518977165222\n"
     ]
    }
   ],
   "source": [
    "import time\n",
    "max_iterations = 500\n",
    "step_size = 0.05\n",
    "conv_tol = 1e-06\n",
    "opt = qml.GradientDescentOptimizer(stepsize=0.05)\n",
    "\n",
    "vqe_cost = []\n",
    "\n",
    "\n",
    "prev_energy = cost(initial_params)\n",
    "\n",
    "#Vanilla Gradient Descent\n",
    "\n",
    "start = time.time()\n",
    "params = initial_params\n",
    "for n in range(max_iterations):\n",
    "\n",
    "    #calculate vanilla gradient descent\n",
    "    params = opt.step(cost, params)\n",
    "\n",
    "    #calculate new energy with updates params\n",
    "    energy = cost(params)\n",
    "    vqe_cost.append(energy)\n",
    "\n",
    "    #calculate convergence\n",
    "    conv = np.abs(energy - prev_energy)\n",
    "\n",
    "    if n % 20 == 0:\n",
    "        print('Iteration = ', n,  'Ground-state energy = ', energy, 'Ha',  'Convergence parameter =', conv, 'Ha')\n",
    "\n",
    "    if conv <= conv_tol:\n",
    "        print(\"Groundate found: {:9f}\".format(cost(params)))\n",
    "        break\n",
    "        \n",
    "\n",
    "    prev_energy = energy\n",
    "end = time.time() - start\n",
    "print(end)"
   ]
  },
  {
   "cell_type": "code",
   "execution_count": 7,
   "metadata": {},
   "outputs": [],
   "source": [
    "import openfermion\n",
    "\n",
    "#of_ham = qml.qchem._terms_to_qubit_operator(h.coeffs, h.ops)\n",
    "#lin = openfermion.utils.LinearQubitOperator(of_ham, 4)\n",
    "#ground_state = openfermion.utils.get_ground_state(lin)\n",
    "#print(ground_state[0])"
   ]
  },
  {
   "cell_type": "code",
   "execution_count": 9,
   "metadata": {},
   "outputs": [
    {
     "data": {
      "image/png": "[encoded data removed]",
      "text/plain": [
       "<Figure size 504x360 with 1 Axes>"
      ]
     },
     "metadata": {},
     "output_type": "display_data"
    }
   ],
   "source": [
    "from matplotlib import pyplot as plt\n",
    "\n",
    "plt.style.use(\"seaborn\")\n",
    "fig = plt.figure(figsize=(7,5))\n",
    "\n",
    "plt.plot(vqe_cost, \"b\", label=\"VQE Cost\")\n",
    "#plt.axhline(y=ground_state[0], color='r', linestyle='--', label='Exact groundstate')\n",
    "\n",
    "plt.ylabel(\"Energy\", fontsize=18)\n",
    "plt.xlabel(\"Step\", fontsize=18)\n",
    "plt.title('H2 Groundstate Energy', fontsize = 18)\n",
    "plt.xticks(fontsize=18)\n",
    "plt.yticks(fontsize=18)\n",
    "\n",
    "plt.legend(fontsize=18)\n",
    "plt.show()"
   ]
  },
  {
   "cell_type": "code",
   "execution_count": null,
   "metadata": {},
   "outputs": [],
   "source": [
    "165 s"
   ]
  },
  {
   "cell_type": "code",
   "execution_count": null,
   "metadata": {},
   "outputs": [],
   "source": []
  }
 ],
 "metadata": {
  "kernelspec": {
   "display_name": "Python 3",
   "language": "python",
   "name": "python3"
  },
  "language_info": {
   "codemirror_mode": {
    "name": "ipython",
    "version": 3
   },
   "file_extension": ".py",
   "mimetype": "text/x-python",
   "name": "python",
   "nbconvert_exporter": "python",
   "pygments_lexer": "ipython3",
   "version": "3.7.4"
  }
 },
 "nbformat": 4,
 "nbformat_minor": 2
}
