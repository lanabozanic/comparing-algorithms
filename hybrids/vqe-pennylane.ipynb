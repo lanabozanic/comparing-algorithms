{
 "cells": [
  {
   "cell_type": "markdown",
   "metadata": {},
   "source": [
    "#### To conduct different experiements, the only thing that needs to be changed is:\n",
    "- the name of the molecule\n",
    "- the molecule's path (check out the molecules folder for whats available\n",
    "- (optional) number of active of active orbitals and electrons\n",
    "- ansatz (modify the ansatz based on the number of qubits)"
   ]
  },
  {
   "cell_type": "markdown",
   "metadata": {},
   "source": [
    "### Overview of the VQE Algorithm\n",
    "The VQE Algorithm is a promising near-term quantum hybrid variational algorithm that is often used to fing the groundstate energy of molecules. This information is necessary for applications in the drug discovery world, such as molecular simulation.\n",
    "\n",
    "The way this algorithm works is by combining both quantum and classical computation to find the lowest possible eigenvalue of a given matrix, which we call a Hamiltonian. Hamiltonians represent all the kinetic and potential energies of a given system. The eigenvalue we find corresponds to the groundstate energy of a molecule for a given bond length.\n",
    "\n",
    "The way a quantum computer does this, is by relying on something called the **variational principle**. Formally, this principles states that:\n",
    "\n",
    "$\\lambda_{min} <= \\langle\\psi| H |\\psi\\rangle$\n",
    "\n",
    "meaning that the lowest possible eigenvalue of a given hermitian matrix will always be less than or equal to the expectation value of $H$\n",
    "\n",
    "In summary, this means that all we have to do is minimize our expectation value, $\\langle\\psi(\\theta)| H | \\psi(\\theta)\\rangle$, and we will get closer and closer to our ground state energy, but never below it.\n",
    "\n",
    "\n",
    "\n",
    "\n",
    "*The steps of a VQE to approximate the minimum eigenvalue (our groundstate) are as follows:*\n",
    "1. Create a paramaterized circuit that will encode our trials states (our ansatz).\n",
    "    - in this example, we use a hardware efficient ansatz\n",
    "2. Use the quantum computer to calculate our expectation value $\\langle\\psi(\\theta)| H | \\psi(\\theta)\\rangle$ [where $|\\psi(\\theta)\\rangle$ is our trial state]\n",
    "3. Read the expectation value out to a classical computer, and then use a classical optimization method to update our parameters.\n",
    "4. Repeat steps 1-3 until we reach a chemically accurate convergence (around 0.00159 Hartrees)\n",
    "\n"
   ]
  },
  {
   "cell_type": "code",
   "execution_count": 1,
   "metadata": {},
   "outputs": [],
   "source": [
    "#import packages\n",
    "import numpy as np\n",
    "import pennylane as qml\n",
    "from pennylane import expval, var, device\n",
    "pi = np.pi"
   ]
  },
  {
   "cell_type": "code",
   "execution_count": 10,
   "metadata": {},
   "outputs": [
    {
     "name": "stdout",
     "output_type": "stream",
     "text": [
      "(-6.707508290391098) [I0]\n",
      "+ (-0.1184706446518777) [Z0]\n",
      "+ (0.0003916086112975293) [Y0 Z1 Y2]\n",
      "+ (0.0003916086112975293) [X0 Z1 X2]\n",
      "+ (-0.11847064465187764) [Z1]\n",
      "+ (0.0003916086112975346) [Y1 Z2 Y3]\n",
      "+ (0.0003916086112975346) [X1 Z2 X3]\n",
      "+ (-0.26378756012529625) [Z2]\n",
      "+ (-0.2637875601252963) [Z3]\n",
      "+ (-0.2799227166898821) [Z4]\n",
      "+ (-0.27992271668988217) [Z5]\n",
      "+ (-0.2799227166898822) [Z6]\n",
      "+ (-0.2799227166898822) [Z7]\n",
      "+ (0.13106579035624624) [Z0 Z1]\n",
      "+ (0.009702948635494247) [Y0 Y2]\n",
      "+ (0.009702948635494247) [X0 X2]\n",
      "+ (0.009702948635494247) [Z0 Y1 Z2 Y3]\n",
      "+ (0.009702948635494247) [Z0 X1 Z2 X3]\n",
      "+ (0.002366478148277553) [Y0 X1 X2 Y3]\n",
      "+ (-0.002366478148277553) [Y0 Y1 X2 X3]\n",
      "+ (-0.002366478148277553) [X0 X1 Y2 Y3]\n",
      "+ (0.002366478148277553) [X0 Y1 Y2 X3]\n",
      "+ (0.006795526682424357) [Y0 X1 X4 Y5]\n",
      "+ (-0.006795526682424357) [Y0 Y1 X4 X5]\n",
      "+ (-0.006795526682424357) [X0 X1 Y4 Y5]\n",
      "+ (0.006795526682424357) [X0 Y1 Y4 X5]\n",
      "+ (0.0067955266824243615) [Y0 X1 X6 Y7]\n",
      "+ (-0.0067955266824243615) [Y0 Y1 X6 X7]\n",
      "+ (-0.0067955266824243615) [X0 X1 Y6 Y7]\n",
      "+ (0.0067955266824243615) [X0 Y1 Y6 X7]\n",
      "+ (0.05929524181655194) [Z0 Z2]\n",
      "+ (0.06166171996482949) [Z0 Z3]\n",
      "+ (0.00034735301058932803) [Y0 Z1 Y2 Z3]\n",
      "+ (0.00034735301058932803) [X0 Z1 X2 Z3]\n",
      "+ (0.00488953871370374) [Y0 Z1 Z2 X3 X4 Y5]\n",
      "+ (-0.00488953871370374) [Y0 Z1 Z2 Y3 X4 X5]\n",
      "+ (-0.00488953871370374) [X0 Z1 Z2 X3 Y4 Y5]\n",
      "+ (0.00488953871370374) [X0 Z1 Z2 Y3 Y4 X5]\n",
      "+ (0.004889538713703741) [Y0 Z1 Z2 X3 X6 Y7]\n",
      "+ (-0.004889538713703741) [Y0 Z1 Z2 Y3 X6 X7]\n",
      "+ (-0.004889538713703741) [X0 Z1 Z2 X3 Y6 Y7]\n",
      "+ (0.004889538713703741) [X0 Z1 Z2 Y3 Y6 X7]\n",
      "+ (0.06832924266505118) [Z0 Z4]\n",
      "+ (0.004685761056459362) [Y0 Z1 Y2 Z4]\n",
      "+ (0.004685761056459362) [X0 Z1 X2 Z4]\n",
      "+ (0.07512476934747556) [Z0 Z5]\n",
      "+ (-0.00020377765724437862) [Y0 Z1 Y2 Z5]\n",
      "+ (-0.00020377765724437862) [X0 Z1 X2 Z5]\n",
      "+ (0.06832924266505122) [Z0 Z6]\n",
      "+ (0.004685761056459367) [Y0 Z1 Y2 Z6]\n",
      "+ (0.004685761056459367) [X0 Z1 X2 Z6]\n",
      "+ (0.07512476934747558) [Z0 Z7]\n",
      "+ (-0.0002037776572443741) [Y0 Z1 Y2 Z7]\n",
      "+ (-0.0002037776572443741) [X0 Z1 X2 Z7]\n",
      "+ (0.06166171996482949) [Z1 Z2]\n",
      "+ (0.00034735301058932803) [Y1 Y3]\n",
      "+ (0.00034735301058932803) [X1 X3]\n",
      "+ (-0.004889538713703739) [Y1 X2 X4 Y5]\n",
      "+ (-0.004889538713703739) [Y1 Y2 Y4 Y5]\n",
      "+ (-0.004889538713703739) [X1 X2 X4 X5]\n",
      "+ (-0.004889538713703739) [X1 Y2 Y4 X5]\n",
      "+ (-0.004889538713703741) [Y1 X2 X6 Y7]\n",
      "+ (-0.004889538713703741) [Y1 Y2 Y6 Y7]\n",
      "+ (-0.004889538713703741) [X1 X2 X6 X7]\n",
      "+ (-0.004889538713703741) [X1 Y2 Y6 X7]\n",
      "+ (0.05929524181655194) [Z1 Z3]\n",
      "+ (0.07512476934747556) [Z1 Z4]\n",
      "+ (-0.00020377765724437862) [Y1 Z2 Y3 Z4]\n",
      "+ (-0.00020377765724437862) [X1 Z2 X3 Z4]\n",
      "+ (0.06832924266505118) [Z1 Z5]\n",
      "+ (0.004685761056459362) [Y1 Z2 Y3 Z5]\n",
      "+ (0.004685761056459362) [X1 Z2 X3 Z5]\n",
      "+ (0.07512476934747558) [Z1 Z6]\n",
      "+ (-0.0002037776572443741) [Y1 Z2 Y3 Z6]\n",
      "+ (-0.0002037776572443741) [X1 Z2 X3 Z6]\n",
      "+ (0.06832924266505122) [Z1 Z7]\n",
      "+ (0.004685761056459367) [Y1 Z2 Y3 Z7]\n",
      "+ (0.004685761056459367) [X1 Z2 X3 Z7]\n",
      "+ (0.08475100244618883) [Z2 Z3]\n",
      "+ (0.01059059374775931) [Y2 X3 X4 Y5]\n",
      "+ (-0.01059059374775931) [Y2 Y3 X4 X5]\n",
      "+ (-0.01059059374775931) [X2 X3 Y4 Y5]\n",
      "+ (0.01059059374775931) [X2 Y3 Y4 X5]\n",
      "+ (0.010590593747759312) [Y2 X3 X6 Y7]\n",
      "+ (-0.010590593747759312) [Y2 Y3 X6 X7]\n",
      "+ (-0.010590593747759312) [X2 X3 Y6 Y7]\n",
      "+ (0.010590593747759312) [X2 Y3 Y6 X7]\n",
      "+ (0.06009702977667587) [Z2 Z4]\n",
      "+ (0.07068762352443518) [Z2 Z5]\n",
      "+ (0.060097029776675887) [Z2 Z6]\n",
      "+ (0.0706876235244352) [Z2 Z7]\n",
      "+ (0.07068762352443518) [Z3 Z4]\n",
      "+ (0.06009702977667587) [Z3 Z5]\n",
      "+ (0.0706876235244352) [Z3 Z6]\n",
      "+ (0.060097029776675887) [Z3 Z7]\n",
      "+ (0.07823637778985214) [Z4 Z5]\n",
      "+ (0.00421728487842271) [Y4 X5 X6 Y7]\n",
      "+ (-0.00421728487842271) [Y4 Y5 X6 X7]\n",
      "+ (-0.00421728487842271) [X4 X5 Y6 Y7]\n",
      "+ (0.00421728487842271) [X4 Y5 Y6 X7]\n",
      "+ (0.06558452315458402) [Z4 Z6]\n",
      "+ (0.06980180803300673) [Z4 Z7]\n",
      "+ (0.06980180803300673) [Z5 Z6]\n",
      "+ (0.06558452315458402) [Z5 Z7]\n",
      "+ (0.07823637778985218) [Z6 Z7] \n",
      " 8\n",
      "8\n"
     ]
    }
   ],
   "source": [
    "name ='LiH';charge = 0;multiplicity=1;basis= 'sto-3g';geometry = 'molecules/lih.xyz';\n",
    "h, nr_qubits = qml.qchem.generate_hamiltonian(\n",
    "    name,\n",
    "    geometry,\n",
    "    charge,\n",
    "    multiplicity,\n",
    "    basis,\n",
    "    mapping='jordan_wigner',\n",
    "    n_active_orbitals=4,\n",
    "    n_active_electrons=2,\n",
    ")\n",
    "print(h, '\\n', nr_qubits)\n",
    "\n",
    "coeffs = h.coeffs\n",
    "ops = h.ops\n",
    "print(nr_qubits)\n",
    "\n",
    "#of_ham = qml.qchem._terms_to_qubit_operator(coeffs, ops)"
   ]
  },
  {
   "cell_type": "code",
   "execution_count": 17,
   "metadata": {},
   "outputs": [],
   "source": [
    "dev = qml.device(\"default.qubit\", wires=8)\n",
    "def ansatz(params, wires=[0,1,2,3,4,5,6,7]):\n",
    "    qml.BasisState(np.array([1, 1,1,1,0,0, 0, 0]), wires=wires)\n",
    "    for i in wires:\n",
    "        qml.RY(params[i], wires=wires[i])\n",
    "    qml.CNOT(wires=[wires[0], wires[1]])\n",
    "    qml.CNOT(wires=[wires[2], wires[3]])\n",
    "    qml.CNOT(wires=[wires[4], wires[5]])\n",
    "    qml.CNOT(wires=[wires[1], wires[2]])\n",
    "    qml.CNOT(wires=[wires[3], wires[4]])\n",
    "    qml.CNOT(wires=[wires[5], wires[6]])\n",
    "    qml.CNOT(wires=[wires[6], wires[7]])\n",
    "\n",
    "    for i in wires:\n",
    "        qml.RY(params[i+nr_qubits], wires=wires[i])\n",
    "    qml.CNOT(wires=[wires[0], wires[1]])\n",
    "    qml.CNOT(wires=[wires[2], wires[3]])\n",
    "    qml.CNOT(wires=[wires[4], wires[5]])\n",
    "    qml.CNOT(wires=[wires[1], wires[2]])\n",
    "    qml.CNOT(wires=[wires[3], wires[4]])\n",
    "    qml.CNOT(wires=[wires[5], wires[6]])\n",
    "    qml.CNOT(wires=[wires[6], wires[7]])\n",
    "\n",
    "\n",
    "initial_params = np.random.uniform(low=0, high=2*np.pi, size=(nr_qubits * 2))"
   ]
  },
  {
   "cell_type": "code",
   "execution_count": 18,
   "metadata": {},
   "outputs": [
    {
     "data": {
      "text/plain": [
       "-6.94398328662911"
      ]
     },
     "execution_count": 18,
     "metadata": {},
     "output_type": "execute_result"
    }
   ],
   "source": [
    "cost = qml.VQECost(ansatz, h, dev)\n",
    "cost(initial_params)"
   ]
  },
  {
   "cell_type": "code",
   "execution_count": 19,
   "metadata": {},
   "outputs": [
    {
     "name": "stdout",
     "output_type": "stream",
     "text": [
      "Iteration =  0 Ground-state energy =  -6.946855078640122 Ha Convergence parameter = 0.0028717920110121753 Ha\n",
      "Iteration =  50 Ground-state energy =  -7.1243532788692265 Ha Convergence parameter = 0.004149867587398326 Ha\n",
      "Iteration =  100 Ground-state energy =  -7.318341462154296 Ha Convergence parameter = 0.003161722201575401 Ha\n",
      "Iteration =  150 Ground-state energy =  -7.429562770893708 Ha Convergence parameter = 0.0014737221575185089 Ha\n",
      "Iteration =  200 Ground-state energy =  -7.480017787574433 Ha Convergence parameter = 0.0006718498951876484 Ha\n",
      "Iteration =  250 Ground-state energy =  -7.503536428375407 Ha Convergence parameter = 0.00032315162425344823 Ha\n",
      "Iteration =  300 Ground-state energy =  -7.515270909040448 Ha Convergence parameter = 0.0001700935537201076 Ha\n",
      "Iteration =  350 Ground-state energy =  -7.521844591334168 Ha Convergence parameter = 0.00010346578122799599 Ha\n",
      "Iteration =  400 Ground-state energy =  -7.526215423484377 Ha Convergence parameter = 7.636980476721789e-05 Ha\n",
      "Iteration =  450 Ground-state energy =  -7.529795815524617 Ha Convergence parameter = 6.948846174470447e-05 Ha\n"
     ]
    }
   ],
   "source": [
    "import time\n",
    "max_iterations = 500\n",
    "step_size = 0.05\n",
    "conv_tol = 1e-06\n",
    "opt = qml.GradientDescentOptimizer(stepsize=0.05)\n",
    "\n",
    "vqe_cost = []\n",
    "\n",
    "\n",
    "prev_energy = cost(initial_params)\n",
    "\n",
    "\n",
    "start = time.time()\n",
    "params = initial_params\n",
    "for n in range(max_iterations):\n",
    "\n",
    "    #calculate vanilla gradient descent\n",
    "    params = opt.step(cost, params)\n",
    "\n",
    "    #calculate new energy with updates params\n",
    "    energy = cost(params)\n",
    "    vqe_cost.append(energy)\n",
    "\n",
    "    #calculate convergence\n",
    "    conv = np.abs(energy - prev_energy)\n",
    "\n",
    "    if n % 50 == 0:\n",
    "        print('Iteration = ', n,  'Ground-state energy = ', energy, 'Ha',  'Convergence parameter =', conv, 'Ha')\n",
    "\n",
    "    if conv <= conv_tol:\n",
    "        print(\"Groundate found: {:9f}\".format(cost(params)))\n",
    "        break\n",
    "        \n",
    "\n",
    "    prev_energy = energy\n",
    "end = time.time() - start\n"
   ]
  },
  {
   "cell_type": "code",
   "execution_count": 20,
   "metadata": {},
   "outputs": [
    {
     "name": "stdout",
     "output_type": "stream",
     "text": [
      "7561.228734\n"
     ]
    }
   ],
   "source": [
    "print('{:5f}'.format(end))"
   ]
  },
  {
   "cell_type": "code",
   "execution_count": 7,
   "metadata": {},
   "outputs": [],
   "source": [
    "import openfermion\n",
    "\n",
    "#of_ham = qml.qchem._terms_to_qubit_operator(h.coeffs, h.ops)\n",
    "#lin = openfermion.utils.LinearQubitOperator(of_ham, 4)\n",
    "#ground_state = openfermion.utils.get_ground_state(lin)\n",
    "#print(ground_state[0])"
   ]
  },
  {
   "cell_type": "code",
   "execution_count": 8,
   "metadata": {},
   "outputs": [
    {
     "data": {
      "text/plain": [
       "<Figure size 700x500 with 1 Axes>"
      ]
     },
     "metadata": {},
     "output_type": "display_data"
    }
   ],
   "source": [
    "from matplotlib import pyplot as plt\n",
    "\n",
    "plt.style.use(\"seaborn\")\n",
    "fig = plt.figure(figsize=(7,5))\n",
    "\n",
    "plt.plot(vqe_cost, \"b\", label=\"VQE Cost\")\n",
    "#plt.axhline(y=ground_state[0], color='r', linestyle='--', label='Exact groundstate')\n",
    "\n",
    "plt.ylabel(\"Energy\", fontsize=18)\n",
    "plt.xlabel(\"Step\", fontsize=18)\n",
    "plt.title('H2 Groundstate Energy', fontsize = 18)\n",
    "#plt.axhline(y = -1.136189454088, label='exact groundstate', color='red')\n",
    "\n",
    "\n",
    "plt.xticks(fontsize=18)\n",
    "plt.yticks(fontsize=18)\n",
    "\n",
    "plt.legend(fontsize=18)\n",
    "plt.show()"
   ]
  },
  {
   "cell_type": "code",
   "execution_count": null,
   "metadata": {},
   "outputs": [],
   "source": []
  },
  {
   "cell_type": "code",
   "execution_count": null,
   "metadata": {},
   "outputs": [],
   "source": []
  }
 ],
 "metadata": {
  "kernelspec": {
   "display_name": "Python 3",
   "language": "python",
   "name": "python3"
  },
  "language_info": {
   "codemirror_mode": {
    "name": "ipython",
    "version": 3
   },
   "file_extension": ".py",
   "mimetype": "text/x-python",
   "name": "python",
   "nbconvert_exporter": "python",
   "pygments_lexer": "ipython3",
   "version": "3.7.4"
  }
 },
 "nbformat": 4,
 "nbformat_minor": 2
}
