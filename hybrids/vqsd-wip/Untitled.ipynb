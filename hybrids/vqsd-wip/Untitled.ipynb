{
 "cells": [
  {
   "cell_type": "code",
   "execution_count": 10,
   "metadata": {},
   "outputs": [],
   "source": [
    "import cirq\n",
    "import numpy as np\n",
    "from cirq import Simulator"
   ]
  },
  {
   "cell_type": "code",
   "execution_count": 11,
   "metadata": {},
   "outputs": [
    {
     "ename": "NameError",
     "evalue": "name 'XmonSimulator' is not defined",
     "output_type": "error",
     "traceback": [
      "\u001b[0;31m---------------------------------------------------------------------------\u001b[0m",
      "\u001b[0;31mNameError\u001b[0m                                 Traceback (most recent call last)",
      "\u001b[0;32m<ipython-input-11-b846cd1ab130>\u001b[0m in \u001b[0;36m<module>\u001b[0;34m\u001b[0m\n\u001b[1;32m     43\u001b[0m def obj_dip_resolved(\n\u001b[1;32m     44\u001b[0m                      \u001b[0mangles\u001b[0m\u001b[0;34m,\u001b[0m\u001b[0;34m\u001b[0m\u001b[0;34m\u001b[0m\u001b[0m\n\u001b[0;32m---> 45\u001b[0;31m                      \u001b[0msimulator\u001b[0m\u001b[0;34m=\u001b[0m\u001b[0mXmonSimulator\u001b[0m\u001b[0;34m(\u001b[0m\u001b[0;34m)\u001b[0m\u001b[0;34m,\u001b[0m\u001b[0;34m\u001b[0m\u001b[0;34m\u001b[0m\u001b[0m\n\u001b[0m\u001b[1;32m     46\u001b[0m                      repetitions=1000):\n\u001b[1;32m     47\u001b[0m     \"\"\"Returns the objective function of the resolved circuit as computed\n",
      "\u001b[0;31mNameError\u001b[0m: name 'XmonSimulator' is not defined"
     ]
    }
   ],
   "source": [
    "def state_prep(self, prep_angles, post_angles, copy=0):\n",
    "\n",
    "    # error check on inputs\n",
    "    assert len(prep_angles) == 3\n",
    "    assert len(prep_angles[0]) == self._num_qubits\n",
    "    \n",
    "def product_ansatz(n, params, gate):\n",
    "    # make sure the number of parameters is correct\n",
    "    n = self._num_qubits\n",
    "\n",
    "    for ii in range(len(params)):\n",
    "        g = gate(half_turns=params[ii])\n",
    "        self.unitary_circ.append(\n",
    "            [g(self.qubits[ii]), g(self.qubits[ii + 2 * n])],\n",
    "            strategy=cirq.InsertStrategy.EARLIEST\n",
    "        )\n",
    "        \n",
    "def dip_test():\n",
    "    \"\"\"Implements the dip test circuit.\n",
    "    modifies:\n",
    "        self.dip_test_circ\n",
    "            appends the dip test circuit with measurements\n",
    "            on the top state.\n",
    "    \"\"\"\n",
    "    # TODO: implement option for partial dip test circuit\n",
    "    # or make another method (e.g., pdip_test(self, qbit_to_measure))\n",
    "\n",
    "    # do the cnots\n",
    "    for ii in range(self._num_qubits):\n",
    "        self.dip_test_circ.append(\n",
    "            cirq.CNOT(self.qubits[ii + 2 * self._num_qubits],\n",
    "                      self.qubits[ii]),\n",
    "            strategy=cirq.InsertStrategy.EARLIEST\n",
    "            )\n",
    "\n",
    "    # do the measurements\n",
    "    qubits_to_measure = self.qubits[:self._num_qubits]\n",
    "    self.dip_test_circ.append(\n",
    "        cirq.measure(*qubits_to_measure, key=self._measure_key),\n",
    "        strategy=cirq.InsertStrategy.EARLIEST\n",
    "    )   \n",
    "    \n",
    "def obj_dip_resolved(\n",
    "                     angles,\n",
    "                     simulator=XmonSimulator(),\n",
    "                     repetitions=1000):\n",
    "    \"\"\"Returns the objective function of the resolved circuit as computed\n",
    "    by the DIP Test.\"\"\"\n",
    "    # make sure the purity is computed\n",
    "    if not self.purity:\n",
    "        self.compute_purity()\n",
    "\n",
    "    # run the circuit\n",
    "    outcome = self.run_resolved(angles, simulator, repetitions)\n",
    "    counts = outcome.histogram(key=self._measure_key)\n",
    "\n",
    "    # compute the overlap and return the objective\n",
    "    overlap = counts[0] / repetitions if 0 in counts.keys() else 0\n",
    "    return self.purity - overlap"
   ]
  },
  {
   "cell_type": "code",
   "execution_count": null,
   "metadata": {},
   "outputs": [],
   "source": [
    "cost = []\n",
    "def objdip(angs):\n",
    "    #vqsd.clear_dip_test_circ()\n",
    "    vqsd.dip_test()\n",
    "    val = vqsd.obj_dip_resolved(angs, repetitions=nreps)\n",
    "    cost.append(val)\n",
    "    print(\"DIP Test obj =\", val)\n",
    "    return val"
   ]
  }
 ],
 "metadata": {
  "kernelspec": {
   "display_name": "Python 3",
   "language": "python",
   "name": "python3"
  },
  "language_info": {
   "codemirror_mode": {
    "name": "ipython",
    "version": 3
   },
   "file_extension": ".py",
   "mimetype": "text/x-python",
   "name": "python",
   "nbconvert_exporter": "python",
   "pygments_lexer": "ipython3",
   "version": "3.7.4"
  }
 },
 "nbformat": 4,
 "nbformat_minor": 2
}
