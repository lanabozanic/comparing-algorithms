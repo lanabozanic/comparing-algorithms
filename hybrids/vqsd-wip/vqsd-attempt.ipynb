{
 "cells": [
  {
   "cell_type": "markdown",
   "metadata": {},
   "source": [
    "### VQSD PENNYLANE"
   ]
  },
  {
   "cell_type": "markdown",
   "metadata": {},
   "source": [
    "to do:\n",
    "- base experiment in pennylane from original paper https://arxiv.org/pdf/1810.10506\n",
    "- create state to diagonalize $\\rho = $  $|+\\rangle \\langle +| $\n",
    "- create parameterized unitary $U_p(\\alpha)$\n",
    "\n",
    "such that:\n",
    "$\\tilde\\rho_{p}(\\alpha) := U_p(\\alpha) \\rho U_p^{\\dagger}(\\alpha)$\n",
    "is approximately diagonal at the optimal value of $\\alpha_{opt}$\n",
    "\n",
    "- create a layered ansatz with the form:\n",
    "$U_p(\\alpha) = L_1(\\alpha_1)L_2(\\alpha_2) ...  L_p(\\alpha_p)$\n",
    "    -  p is a hyperparameter that sets the number of layers $L_i(α_i)$, and each $α_i$ is a set of optimization parameters that corresponds to internal gate angles within the layer.\n",
    "    \n",
    "- define the cost function: $C(U_p(\\alpha) = qC_1(U_P(\\alpha)) + (1- q) C_2(U_p(\\alpha))$, where:\n",
    "     - $C_1(U_p(\\alpha)) = Tr(\\rho^2) - Tr(Z(\\tilde \\rho)^2)$\n",
    "     - $C_2(U_p(\\alpha)) = Tr(\\rho^2) - \\dfrac{1}n \\sum^{n}_{j=1}Z_j(\\tilde \\rho)^2 $\n",
    "         - $Z$ and $Z_j$ are quantum channels that dephase (i.e.,\n",
    "destroy the off-diagonal elements) in the global standard basis and in the local standard basis on qubit j, respectively. \n",
    "         - $q \\in [0,1]$ is a free parameter that allows one to tailor the VQSD method to the scale of one’s problem.\n",
    "\n",
    "*note: for smaller problem sizes, $C_1$ on its own should be fine*"
   ]
  },
  {
   "cell_type": "code",
   "execution_count": 2,
   "metadata": {},
   "outputs": [],
   "source": [
    "# Pennylane\n",
    "import pennylane as qml\n",
    "from pennylane import numpy as np\n",
    "\n",
    "# Plotting + Other\n",
    "import matplotlib.pyplot as plt\n",
    "import math\n",
    "import time\n",
    "import numpy as np\n",
    "\n",
    "from scipy.optimize import minimize\n",
    "\n",
    "pi = np.pi"
   ]
  },
  {
   "cell_type": "code",
   "execution_count": 3,
   "metadata": {},
   "outputs": [],
   "source": [
    "num_iters = 100\n",
    "step_size = 0.0005\n",
    "wires = 2"
   ]
  },
  {
   "cell_type": "code",
   "execution_count": 5,
   "metadata": {},
   "outputs": [
    {
     "name": "stdout",
     "output_type": "stream",
     "text": [
      "Hermitian: 1 params, wires [0, 1]\n"
     ]
    }
   ],
   "source": [
    "def comp_basis_measurement(wires):\n",
    "    n_wires = len(wires)\n",
    "    return qml.Hermitian(np.diag(range(2 ** n_wires)), wires=wires)\n",
    "\n",
    "print(comp_basis_measurement([0,1]))"
   ]
  },
  {
   "cell_type": "code",
   "execution_count": 6,
   "metadata": {},
   "outputs": [],
   "source": [
    "dev = qml.device(\"default.qubit\", wires=wires,shots=1, analytic=False)"
   ]
  },
  {
   "cell_type": "code",
   "execution_count": 33,
   "metadata": {},
   "outputs": [],
   "source": [
    "def state_prep():\n",
    "    for i in range(wires):\n",
    "        qml.Hadamard(wires=i)\n",
    "        \n",
    "def unitary(params):\n",
    "    for i in range(wires):\n",
    "        qml.RZ(params[0], wires=i)\n",
    "    \n",
    "    for i in range(wires):\n",
    "        qml.RX(pi/2, wires=i)\n",
    "        \n",
    "def dip_test():\n",
    "    qml.CNOT(wires=[1,0])\n",
    "    return qml.expval(comp_basis_measurement([0]))\n",
    "\n",
    "@qml.qnode(dev)\n",
    "def circuit(params):\n",
    "    state_prep()\n",
    "    unitary(params)\n",
    "    dip_test()\n",
    "    return qml.expval(comp_basis_measurement([0]))\n"
   ]
  },
  {
   "cell_type": "code",
   "execution_count": 34,
   "metadata": {},
   "outputs": [
    {
     "ename": "QuantumFunctionError",
     "evalue": "All measured observables must be returned in the order they are measured.",
     "output_type": "error",
     "traceback": [
      "\u001b[0;31m---------------------------------------------------------------------------\u001b[0m",
      "\u001b[0;31mQuantumFunctionError\u001b[0m                      Traceback (most recent call last)",
      "\u001b[0;32m<ipython-input-34-65b774e58831>\u001b[0m in \u001b[0;36m<module>\u001b[0;34m\u001b[0m\n\u001b[0;32m----> 1\u001b[0;31m \u001b[0mcircuit\u001b[0m\u001b[0;34m(\u001b[0m\u001b[0;34m[\u001b[0m\u001b[0;36m0.2\u001b[0m\u001b[0;34m]\u001b[0m\u001b[0;34m)\u001b[0m\u001b[0;34m\u001b[0m\u001b[0;34m\u001b[0m\u001b[0m\n\u001b[0m",
      "\u001b[0;32m/opt/anaconda3/lib/python3.7/site-packages/pennylane/interfaces/autograd.py\u001b[0m in \u001b[0;36m__call__\u001b[0;34m(self, *args, **kwargs)\u001b[0m\n\u001b[1;32m     45\u001b[0m             \u001b[0;31m# prevents autograd boxed arguments from going through to evaluate\u001b[0m\u001b[0;34m\u001b[0m\u001b[0;34m\u001b[0m\u001b[0;34m\u001b[0m\u001b[0m\n\u001b[1;32m     46\u001b[0m             \u001b[0margs\u001b[0m \u001b[0;34m=\u001b[0m \u001b[0mautograd\u001b[0m\u001b[0;34m.\u001b[0m\u001b[0mbuiltins\u001b[0m\u001b[0;34m.\u001b[0m\u001b[0mtuple\u001b[0m\u001b[0;34m(\u001b[0m\u001b[0margs\u001b[0m\u001b[0;34m)\u001b[0m  \u001b[0;31m# pylint: disable=no-member\u001b[0m\u001b[0;34m\u001b[0m\u001b[0;34m\u001b[0m\u001b[0m\n\u001b[0;32m---> 47\u001b[0;31m             \u001b[0;32mreturn\u001b[0m \u001b[0mself\u001b[0m\u001b[0;34m.\u001b[0m\u001b[0mevaluate\u001b[0m\u001b[0;34m(\u001b[0m\u001b[0margs\u001b[0m\u001b[0;34m,\u001b[0m \u001b[0mkwargs\u001b[0m\u001b[0;34m)\u001b[0m\u001b[0;34m\u001b[0m\u001b[0;34m\u001b[0m\u001b[0m\n\u001b[0m\u001b[1;32m     48\u001b[0m \u001b[0;34m\u001b[0m\u001b[0m\n\u001b[1;32m     49\u001b[0m         \u001b[0;34m@\u001b[0m\u001b[0mstaticmethod\u001b[0m\u001b[0;34m\u001b[0m\u001b[0;34m\u001b[0m\u001b[0m\n",
      "\u001b[0;32m/opt/anaconda3/lib/python3.7/site-packages/autograd/tracer.py\u001b[0m in \u001b[0;36mf_wrapped\u001b[0;34m(*args, **kwargs)\u001b[0m\n\u001b[1;32m     46\u001b[0m             \u001b[0;32mreturn\u001b[0m \u001b[0mnew_box\u001b[0m\u001b[0;34m(\u001b[0m\u001b[0mans\u001b[0m\u001b[0;34m,\u001b[0m \u001b[0mtrace\u001b[0m\u001b[0;34m,\u001b[0m \u001b[0mnode\u001b[0m\u001b[0;34m)\u001b[0m\u001b[0;34m\u001b[0m\u001b[0;34m\u001b[0m\u001b[0m\n\u001b[1;32m     47\u001b[0m         \u001b[0;32melse\u001b[0m\u001b[0;34m:\u001b[0m\u001b[0;34m\u001b[0m\u001b[0;34m\u001b[0m\u001b[0m\n\u001b[0;32m---> 48\u001b[0;31m             \u001b[0;32mreturn\u001b[0m \u001b[0mf_raw\u001b[0m\u001b[0;34m(\u001b[0m\u001b[0;34m*\u001b[0m\u001b[0margs\u001b[0m\u001b[0;34m,\u001b[0m \u001b[0;34m**\u001b[0m\u001b[0mkwargs\u001b[0m\u001b[0;34m)\u001b[0m\u001b[0;34m\u001b[0m\u001b[0;34m\u001b[0m\u001b[0m\n\u001b[0m\u001b[1;32m     49\u001b[0m     \u001b[0mf_wrapped\u001b[0m\u001b[0;34m.\u001b[0m\u001b[0mfun\u001b[0m \u001b[0;34m=\u001b[0m \u001b[0mf_raw\u001b[0m\u001b[0;34m\u001b[0m\u001b[0;34m\u001b[0m\u001b[0m\n\u001b[1;32m     50\u001b[0m     \u001b[0mf_wrapped\u001b[0m\u001b[0;34m.\u001b[0m\u001b[0m_is_autograd_primitive\u001b[0m \u001b[0;34m=\u001b[0m \u001b[0;32mTrue\u001b[0m\u001b[0;34m\u001b[0m\u001b[0;34m\u001b[0m\u001b[0m\n",
      "\u001b[0;32m/opt/anaconda3/lib/python3.7/site-packages/pennylane/qnodes/base.py\u001b[0m in \u001b[0;36mevaluate\u001b[0;34m(self, args, kwargs)\u001b[0m\n\u001b[1;32m    746\u001b[0m \u001b[0;34m\u001b[0m\u001b[0m\n\u001b[1;32m    747\u001b[0m         \u001b[0;32mif\u001b[0m \u001b[0mself\u001b[0m\u001b[0;34m.\u001b[0m\u001b[0mcircuit\u001b[0m \u001b[0;32mis\u001b[0m \u001b[0;32mNone\u001b[0m \u001b[0;32mor\u001b[0m \u001b[0mself\u001b[0m\u001b[0;34m.\u001b[0m\u001b[0mmutable\u001b[0m\u001b[0;34m:\u001b[0m\u001b[0;34m\u001b[0m\u001b[0;34m\u001b[0m\u001b[0m\n\u001b[0;32m--> 748\u001b[0;31m             \u001b[0mself\u001b[0m\u001b[0;34m.\u001b[0m\u001b[0m_construct\u001b[0m\u001b[0;34m(\u001b[0m\u001b[0margs\u001b[0m\u001b[0;34m,\u001b[0m \u001b[0mkwargs\u001b[0m\u001b[0;34m)\u001b[0m\u001b[0;34m\u001b[0m\u001b[0;34m\u001b[0m\u001b[0m\n\u001b[0m\u001b[1;32m    749\u001b[0m \u001b[0;34m\u001b[0m\u001b[0m\n\u001b[1;32m    750\u001b[0m         \u001b[0mself\u001b[0m\u001b[0;34m.\u001b[0m\u001b[0mdevice\u001b[0m\u001b[0;34m.\u001b[0m\u001b[0mreset\u001b[0m\u001b[0;34m(\u001b[0m\u001b[0;34m)\u001b[0m\u001b[0;34m\u001b[0m\u001b[0;34m\u001b[0m\u001b[0m\n",
      "\u001b[0;32m/opt/anaconda3/lib/python3.7/site-packages/pennylane/qnodes/jacobian.py\u001b[0m in \u001b[0;36m_construct\u001b[0;34m(self, args, kwargs)\u001b[0m\n\u001b[1;32m     88\u001b[0m         \u001b[0;32mfor\u001b[0m \u001b[0meach\u001b[0m \u001b[0mpositional\u001b[0m \u001b[0mparameter\u001b[0m\u001b[0;34m.\u001b[0m\u001b[0;34m\u001b[0m\u001b[0;34m\u001b[0m\u001b[0m\n\u001b[1;32m     89\u001b[0m         \"\"\"\n\u001b[0;32m---> 90\u001b[0;31m         \u001b[0msuper\u001b[0m\u001b[0;34m(\u001b[0m\u001b[0;34m)\u001b[0m\u001b[0;34m.\u001b[0m\u001b[0m_construct\u001b[0m\u001b[0;34m(\u001b[0m\u001b[0margs\u001b[0m\u001b[0;34m,\u001b[0m \u001b[0mkwargs\u001b[0m\u001b[0;34m)\u001b[0m\u001b[0;34m\u001b[0m\u001b[0;34m\u001b[0m\u001b[0m\n\u001b[0m\u001b[1;32m     91\u001b[0m         \u001b[0mself\u001b[0m\u001b[0;34m.\u001b[0m\u001b[0mpar_to_grad_method\u001b[0m \u001b[0;34m=\u001b[0m \u001b[0;34m{\u001b[0m\u001b[0mk\u001b[0m\u001b[0;34m:\u001b[0m \u001b[0mself\u001b[0m\u001b[0;34m.\u001b[0m\u001b[0m_best_method\u001b[0m\u001b[0;34m(\u001b[0m\u001b[0mk\u001b[0m\u001b[0;34m)\u001b[0m \u001b[0;32mfor\u001b[0m \u001b[0mk\u001b[0m \u001b[0;32min\u001b[0m \u001b[0mself\u001b[0m\u001b[0;34m.\u001b[0m\u001b[0mvariable_deps\u001b[0m\u001b[0;34m}\u001b[0m\u001b[0;34m\u001b[0m\u001b[0;34m\u001b[0m\u001b[0m\n\u001b[1;32m     92\u001b[0m \u001b[0;34m\u001b[0m\u001b[0m\n",
      "\u001b[0;32m/opt/anaconda3/lib/python3.7/site-packages/pennylane/qnodes/base.py\u001b[0m in \u001b[0;36m_construct\u001b[0;34m(self, args, kwargs)\u001b[0m\n\u001b[1;32m    509\u001b[0m \u001b[0;34m\u001b[0m\u001b[0m\n\u001b[1;32m    510\u001b[0m         \u001b[0;31m# check the validity of the circuit\u001b[0m\u001b[0;34m\u001b[0m\u001b[0;34m\u001b[0m\u001b[0;34m\u001b[0m\u001b[0m\n\u001b[0;32m--> 511\u001b[0;31m         \u001b[0mself\u001b[0m\u001b[0;34m.\u001b[0m\u001b[0m_check_circuit\u001b[0m\u001b[0;34m(\u001b[0m\u001b[0mres\u001b[0m\u001b[0;34m)\u001b[0m\u001b[0;34m\u001b[0m\u001b[0;34m\u001b[0m\u001b[0m\n\u001b[0m\u001b[1;32m    512\u001b[0m         \u001b[0;32mdel\u001b[0m \u001b[0mself\u001b[0m\u001b[0;34m.\u001b[0m\u001b[0mqueue\u001b[0m\u001b[0;34m\u001b[0m\u001b[0;34m\u001b[0m\u001b[0m\n\u001b[1;32m    513\u001b[0m         \u001b[0;32mdel\u001b[0m \u001b[0mself\u001b[0m\u001b[0;34m.\u001b[0m\u001b[0mobs_queue\u001b[0m\u001b[0;34m\u001b[0m\u001b[0;34m\u001b[0m\u001b[0m\n",
      "\u001b[0;32m/opt/anaconda3/lib/python3.7/site-packages/pennylane/qnodes/base.py\u001b[0m in \u001b[0;36m_check_circuit\u001b[0;34m(self, res)\u001b[0m\n\u001b[1;32m    622\u001b[0m         \u001b[0;32mif\u001b[0m \u001b[0mres\u001b[0m \u001b[0;34m!=\u001b[0m \u001b[0mtuple\u001b[0m\u001b[0;34m(\u001b[0m\u001b[0mself\u001b[0m\u001b[0;34m.\u001b[0m\u001b[0mobs_queue\u001b[0m\u001b[0;34m)\u001b[0m\u001b[0;34m:\u001b[0m\u001b[0;34m\u001b[0m\u001b[0;34m\u001b[0m\u001b[0m\n\u001b[1;32m    623\u001b[0m             raise QuantumFunctionError(\n\u001b[0;32m--> 624\u001b[0;31m                 \u001b[0;34m\"All measured observables must be returned in the order they are measured.\"\u001b[0m\u001b[0;34m\u001b[0m\u001b[0;34m\u001b[0m\u001b[0m\n\u001b[0m\u001b[1;32m    625\u001b[0m             )\n\u001b[1;32m    626\u001b[0m \u001b[0;34m\u001b[0m\u001b[0m\n",
      "\u001b[0;31mQuantumFunctionError\u001b[0m: All measured observables must be returned in the order they are measured."
     ]
    }
   ],
   "source": [
    "circuit([0.2])"
   ]
  },
  {
   "cell_type": "code",
   "execution_count": 15,
   "metadata": {},
   "outputs": [
    {
     "name": "stdout",
     "output_type": "stream",
     "text": [
      "Objective after step     5:  1.0000000\n",
      "Objective after step    10:  0.0000000\n",
      "Objective after step    15:  1.0000000\n",
      "Objective after step    20:  1.0000000\n",
      "Objective after step    25:  1.0000000\n",
      "Objective after step    30:  0.0000000\n",
      "Objective after step    35:  1.0000000\n",
      "Objective after step    40:  0.0000000\n",
      "Objective after step    45:  0.0000000\n",
      "Objective after step    50:  0.0000000\n",
      "Objective after step    55:  1.0000000\n",
      "Objective after step    60:  1.0000000\n",
      "Objective after step    65:  0.0000000\n",
      "Objective after step    70:  1.0000000\n",
      "Objective after step    75:  1.0000000\n",
      "Objective after step    80:  1.0000000\n",
      "Objective after step    85:  0.0000000\n",
      "Objective after step    90:  1.0000000\n",
      "Objective after step    95:  1.0000000\n",
      "Objective after step   100:  0.0000000\n"
     ]
    }
   ],
   "source": [
    "opt = qml.AdagradOptimizer(stepsize=step_size)\n",
    "\n",
    "def VQSD(params):\n",
    "    cost_history = []\n",
    "    \n",
    "    for step in range(num_iters):\n",
    "        params = opt.step(circuit, params)\n",
    "        #print(params)\n",
    "        cost_history.append(circuit(params))\n",
    "        if (step + 1) % 5 == 0:\n",
    "            print(\"Objective after step {:5d}: {: .7f}\".format(step + 1, circuit(params)))\n",
    "    \n",
    "    return params, cost_history\n",
    "\n",
    "glob = minimize(objdip, init, method=method, options={\"maxiter\": maxiter}) \n",
    "\n",
    "a_opt, history = VQSD([0.2]) "
   ]
  },
  {
   "cell_type": "code",
   "execution_count": 16,
   "metadata": {},
   "outputs": [],
   "source": [
    "@qml.qnode(dev)\n",
    "def eigenvalue_readout(a_opt):\n",
    "    qml.Hadamard(wires=0)\n",
    "    #apply unitary [1 layer]\n",
    "    qml.RZ(a_opt[0], wires=0)\n",
    "    \n",
    "    qml.RX(pi/2, wires=0)\n",
    "    \n",
    "    return qml.expval(comp_basis_measurement(range(1)))"
   ]
  },
  {
   "cell_type": "code",
   "execution_count": 17,
   "metadata": {},
   "outputs": [
    {
     "name": "stdout",
     "output_type": "stream",
     "text": [
      "[0, 1, 0, 1, 0, 0, 1, 0, 0, 1]\n"
     ]
    }
   ],
   "source": [
    "#result = eigenvalue_readout(a_opt)\n",
    "bit_strings = [] \n",
    "n_samples = 10\n",
    "for i in range(0, n_samples):\n",
    "    bit_strings.append(int(eigenvalue_readout(a_opt)))\n",
    "\n",
    "# print optimal parameters and most frequently sampled bitstring\n",
    "counts = np.bincount(np.array(bit_strings))\n",
    "most_freq_bit_string = np.argmax(counts)\n",
    "\n",
    "print(bit_strings)\n",
    "#for i in range(len(result)):\n",
    "#    print(\"Eigenvalue {}: {:3f}\".format(i, result[i]))"
   ]
  },
  {
   "cell_type": "code",
   "execution_count": 18,
   "metadata": {},
   "outputs": [
    {
     "data": {
      "text/plain": [
       "[<matplotlib.lines.Line2D at 0x7fde386a0fd0>]"
      ]
     },
     "execution_count": 18,
     "metadata": {},
     "output_type": "execute_result"
    },
    {
     "data": {
      "image/png": "[encoded data removed]",
      "text/plain": [
       "<Figure size 432x288 with 1 Axes>"
      ]
     },
     "metadata": {
      "needs_background": "light"
     },
     "output_type": "display_data"
    }
   ],
   "source": [
    "import matplotlib.pyplot as plt\n",
    "\n",
    "plt.plot(history)"
   ]
  },
  {
   "cell_type": "code",
   "execution_count": 79,
   "metadata": {},
   "outputs": [],
   "source": [
    "def cost1(params):\n",
    "    state_squared.trace() + - np.dot(dephaser, circuit(params))"
   ]
  },
  {
   "cell_type": "code",
   "execution_count": null,
   "metadata": {},
   "outputs": [],
   "source": []
  },
  {
   "cell_type": "code",
   "execution_count": null,
   "metadata": {},
   "outputs": [],
   "source": []
  },
  {
   "cell_type": "code",
   "execution_count": null,
   "metadata": {},
   "outputs": [],
   "source": []
  }
 ],
 "metadata": {
  "kernelspec": {
   "display_name": "Python 3",
   "language": "python",
   "name": "python3"
  },
  "language_info": {
   "codemirror_mode": {
    "name": "ipython",
    "version": 3
   },
   "file_extension": ".py",
   "mimetype": "text/x-python",
   "name": "python",
   "nbconvert_exporter": "python",
   "pygments_lexer": "ipython3",
   "version": "3.7.4"
  }
 },
 "nbformat": 4,
 "nbformat_minor": 2
}
