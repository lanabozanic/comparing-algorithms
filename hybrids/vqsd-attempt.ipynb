{
 "cells": [
  {
   "cell_type": "markdown",
   "metadata": {},
   "source": [
    "### VQSD PENNYLANE"
   ]
  },
  {
   "cell_type": "markdown",
   "metadata": {},
   "source": [
    "to do:\n",
    "- base experiment in pennylane from original paper https://arxiv.org/pdf/1810.10506\n",
    "- create state to diagonalize $\\rho = $  $|+\\rangle \\langle +| $\n",
    "- create parameterized unitary $U_p(\\alpha)$\n",
    "\n",
    "such that:\n",
    "$\\tilde\\rho_{p}(\\alpha) := U_p(\\alpha) \\rho U_p^{\\dagger}(\\alpha)$\n",
    "is approximately diagonal at the optimal value of $\\alpha_{opt}$\n",
    "\n",
    "- create a layered ansatz with the form:\n",
    "$U_p(\\alpha) = L_1(\\alpha_1)L_2(\\alpha_2) ...  L_p(\\alpha_p)$\n",
    "    -  p is a hyperparameter that sets the number of layers $L_i(α_i)$, and each $α_i$ is a set of optimization parameters that corresponds to internal gate angles within the layer.\n",
    "    \n",
    "- define the cost function: $C(U_p(\\alpha) = qC_1(U_P(\\alpha)) + (1- q) C_2(U_p(\\alpha))$, where:\n",
    "     - $C_1(U_p(\\alpha)) = Tr(\\rho^2) - Tr(Z(\\tilde \\rho)^2)$\n",
    "     - $C_2(U_p(\\alpha)) = Tr(\\rho^2) - \\dfrac{1}n \\sum^{n}_{j=1}Z_j(\\tilde \\rho)^2 $\n",
    "         - $Z$ and $Z_j$ are quantum channels that dephase (i.e.,\n",
    "destroy the off-diagonal elements) in the global standard basis and in the local standard basis on qubit j, respectively. \n",
    "         - $q \\in [0,1]$ is a free parameter that allows one to tailor the VQSD method to the scale of one’s problem.\n",
    "\n",
    "*note: for smaller problem sizes, $C_1$ on its own should be fine*"
   ]
  },
  {
   "cell_type": "code",
   "execution_count": 40,
   "metadata": {},
   "outputs": [],
   "source": [
    "# Pennylane\n",
    "import pennylane as qml\n",
    "from pennylane import numpy as np\n",
    "\n",
    "# Plotting + Other\n",
    "import matplotlib.pyplot as plt\n",
    "import math\n",
    "import time\n",
    "import numpy as np\n",
    "\n",
    "from scipy.optimize import minimize\n",
    "\n",
    "pi = np.pi"
   ]
  },
  {
   "cell_type": "code",
   "execution_count": 63,
   "metadata": {},
   "outputs": [],
   "source": [
    "num_iters = 100\n",
    "step_size = 0.0005\n",
    "wires = 2"
   ]
  },
  {
   "cell_type": "code",
   "execution_count": 64,
   "metadata": {},
   "outputs": [],
   "source": [
    "state = np.array([[1/2, 1/2],\n",
    "                [1/2, 1/2]])\n",
    "\n",
    "state_squared = np.array([[0.25, 0.25],\n",
    "                         [0.25,0.25]]) \n",
    "\n",
    "dephaser = np.array([[1,0],\n",
    "                    [0,-1]])"
   ]
  },
  {
   "cell_type": "code",
   "execution_count": 65,
   "metadata": {},
   "outputs": [
    {
     "name": "stdout",
     "output_type": "stream",
     "text": [
      "Hermitian: 1 params, wires [0, 1]\n"
     ]
    }
   ],
   "source": [
    "def comp_basis_measurement(wires):\n",
    "    n_wires = len(wires)\n",
    "    return qml.Hermitian(np.diag(range(2 ** n_wires)), wires=wires)\n",
    "\n",
    "print(comp_basis_measurement([0,1]))"
   ]
  },
  {
   "cell_type": "code",
   "execution_count": 66,
   "metadata": {},
   "outputs": [],
   "source": [
    "dev = qml.device(\"default.qubit\", wires=wires,shots=10, analytic=False)"
   ]
  },
  {
   "cell_type": "code",
   "execution_count": 73,
   "metadata": {},
   "outputs": [
    {
     "name": "stdout",
     "output_type": "stream",
     "text": [
      "0.3\n"
     ]
    }
   ],
   "source": [
    "@qml.qnode(dev)\n",
    "def circuit(params):\n",
    "    #prepared the state\n",
    "    for i in range(wires):\n",
    "        qml.Hadamard(wires=i)\n",
    "    \n",
    "    #apply unitary [1 layer]\n",
    "    for i in range(wires):\n",
    "        qml.RZ(params[0], wires=i)\n",
    "    \n",
    "    for i in range(wires):\n",
    "        qml.RX(pi/2, wires=i)\n",
    "        \n",
    "    #dip test\n",
    "    qml.CNOT(wires=[1,0])\n",
    "    \n",
    "    return qml.expval(comp_basis_measurement([0]))\n",
    "print(circuit([3]))"
   ]
  },
  {
   "cell_type": "code",
   "execution_count": 75,
   "metadata": {},
   "outputs": [
    {
     "name": "stdout",
     "output_type": "stream",
     "text": [
      "Objective after step     5:  0.4000000\n",
      "Objective after step    10:  0.5000000\n",
      "Objective after step    15:  0.3000000\n",
      "Objective after step    20:  0.4000000\n",
      "Objective after step    25:  0.4000000\n",
      "Objective after step    30:  0.3000000\n",
      "Objective after step    35:  0.8000000\n",
      "Objective after step    40:  0.2000000\n",
      "Objective after step    45:  0.8000000\n",
      "Objective after step    50:  0.5000000\n",
      "Objective after step    55:  0.4000000\n",
      "Objective after step    60:  0.8000000\n",
      "Objective after step    65:  0.6000000\n",
      "Objective after step    70:  0.5000000\n",
      "Objective after step    75:  0.6000000\n",
      "Objective after step    80:  0.5000000\n",
      "Objective after step    85:  0.4000000\n",
      "Objective after step    90:  0.4000000\n",
      "Objective after step    95:  0.5000000\n",
      "Objective after step   100:  0.7000000\n"
     ]
    }
   ],
   "source": [
    "opt = qml.AdagradOptimizer(stepsize=step_size)\n",
    "\n",
    "def VQSD(params):\n",
    "    cost_history = []\n",
    "    \n",
    "    for step in range(num_iters):\n",
    "        params = opt.step(circuit, params)\n",
    "        #print(params)\n",
    "        cost_history.append(circuit(params))\n",
    "        if (step + 1) % 5 == 0:\n",
    "            print(\"Objective after step {:5d}: {: .7f}\".format(step + 1, circuit(params)))\n",
    "    \n",
    "    return params, cost_history, \n",
    "\n",
    "a_opt, history = VQSD([0.2]) "
   ]
  },
  {
   "cell_type": "code",
   "execution_count": 76,
   "metadata": {},
   "outputs": [],
   "source": [
    "@qml.qnode(dev)\n",
    "def eigenvalue_readout(a_opt):\n",
    "    qml.Hadamard(wires=0)\n",
    "    #apply unitary [1 layer]\n",
    "    qml.RZ(a_opt[0], wires=0)\n",
    "    \n",
    "    qml.RX(pi/2, wires=0)\n",
    "    \n",
    "    return qml.sample(comp_basis_measurement(range(1)))"
   ]
  },
  {
   "cell_type": "code",
   "execution_count": 77,
   "metadata": {},
   "outputs": [
    {
     "name": "stdout",
     "output_type": "stream",
     "text": [
      "[0. 1. 1. 0. 1. 0. 0. 0. 0. 0.]\n"
     ]
    }
   ],
   "source": [
    "result = eigenvalue_readout(a_opt)\n",
    "print(result)\n",
    "#for i in range(len(result)):\n",
    "#    print(\"Eigenvalue {}: {:3f}\".format(i, result[i]))"
   ]
  },
  {
   "cell_type": "code",
   "execution_count": 78,
   "metadata": {},
   "outputs": [
    {
     "data": {
      "text/plain": [
       "[<matplotlib.lines.Line2D at 0x7fc99d4d1790>]"
      ]
     },
     "execution_count": 78,
     "metadata": {},
     "output_type": "execute_result"
    },
    {
     "data": {
      "image/png": "[encoded data removed]",
      "text/plain": [
       "<Figure size 432x288 with 1 Axes>"
      ]
     },
     "metadata": {
      "needs_background": "light"
     },
     "output_type": "display_data"
    }
   ],
   "source": [
    "import matplotlib.pyplot as plt\n",
    "\n",
    "plt.plot(history)"
   ]
  },
  {
   "cell_type": "code",
   "execution_count": 79,
   "metadata": {},
   "outputs": [],
   "source": [
    "def cost1(params):\n",
    "    state_squared.trace() + - np.dot(dephaser, circuit(params))"
   ]
  },
  {
   "cell_type": "code",
   "execution_count": null,
   "metadata": {},
   "outputs": [],
   "source": []
  },
  {
   "cell_type": "code",
   "execution_count": null,
   "metadata": {},
   "outputs": [],
   "source": []
  },
  {
   "cell_type": "code",
   "execution_count": null,
   "metadata": {},
   "outputs": [],
   "source": []
  }
 ],
 "metadata": {
  "kernelspec": {
   "display_name": "Python 3",
   "language": "python",
   "name": "python3"
  },
  "language_info": {
   "codemirror_mode": {
    "name": "ipython",
    "version": 3
   },
   "file_extension": ".py",
   "mimetype": "text/x-python",
   "name": "python",
   "nbconvert_exporter": "python",
   "pygments_lexer": "ipython3",
   "version": "3.7.4"
  }
 },
 "nbformat": 4,
 "nbformat_minor": 2
}
