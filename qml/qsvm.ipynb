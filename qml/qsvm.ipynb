{
 "cells": [
  {
   "cell_type": "markdown",
   "metadata": {},
   "source": [
    "## Overview of the Quantum Support Vector Machine Algorithm\n",
    "The classical support vector machine is a powerful supervised machine learning tool used for binary classification. Researchers have decided to extend this popular algorithm in to the quantum world, hoping to see some near-term speeds for use to utilize.\n",
    "\n",
    "### Quantum Classification\n",
    "Generalized supervised learning works by trying to classify a set of points $\\{\\overrightarrow x\\}$ into a group, $y$ (e.g. $y = \\{-1,1\\}$ in our case). What we want to do is find a line (or hyperplane for 3+ features) that seperates our data points into one of our classification groups. This line can be linear, but it can also be much more complex, in the classical SVM we achieve more complexity with the use of kernels. [1]\n",
    "\n",
    "To do this on a quantum computer, we must encode our datapoints into quantum data points. i.e. map $X$ into $|\\Phi({\\overrightarrow x})\\rangle $. We do this by using a quantum circuit: $V(\\Phi({\\overrightarrow x}))$ Where $\\Phi(\\overrightarrow x))$ could be any classical function applied on the classical data $\\overrightarrow x$\n",
    "\n",
    "Next, we must define a paramterized quantum circuit $W(\\Theta)$ that processes data in a way such that when we measure our circuit, we obtain a classical value of 1 or -1, which will be the label of the quantum data.\n",
    "\n",
    "With these steps we achieve the variational quantum circuit $W(\\Theta)V(\\Phi(\\overrightarrow x))|0\\rangle$\n",
    "\n",
    "\n",
    "### Quantum SVM\n",
    "With the previous steps in mind for the process of quantum classification, we can now create a quantum support vector machine.\n",
    "\n",
    "#### Define A Quantum Kernel\n",
    "A quantum feauture map is analougous to the classical feauture map. We take the inner product of our feauture map, $K(\\overrightarrow x, \\overrightarrow z) = |\\langle\\Phi(\\overrightarrow x)|\\Phi(\\overrightarrow z)\\rangle|^2 $, but with our quantum feature map. The reason for doing so is that in the near-term, we could potentially create quantum feature maps that are intractible to compute on a classical computer, thus giving us a quantum advantage.\n",
    "\n",
    "**1. Quantum Feature Maps**\n",
    "\n",
    "To create our quantum feature maps, we use the ansatz/ variational circuit mentioned in the classification steps up above. $V(\\Phi(\\overrightarrow x)) = U(\\Phi(\\overrightarrow x)) \\otimes H^n$ as described in [2], which simplifies a lot when we only consider up to Ising like interactions, which means we only let two qubits interact at a time. This leads to interactions ZZ and non interacting terms Z. [1]\n",
    "\n",
    "e.g. If we write this ansatz for n=2 qubits with the classical data vector $\\overrightarrow x = (x_1, x_2)$ the feature map takes the form: \n",
    "\n",
    "$ U(\\Phi(\\overrightarrow x)) = e^{i(x_1 Z_1 + x_2 Z_2 + (\\pi -x_1)(\\pi -x_2)Z_1Z_2) }$\n",
    "    \n",
    "We can also define a depth for these circuit. Generally, the deeper it is the more accuracte the results. However, in the NISQ era this won't always be the case as our quantum computers can't handle very deep circuits, so the challenge is to find a circuit deep and expressive enough to be effective, while shallow enough to be computed on today's hardware.\n",
    "\n",
    "**2. Measuring the Quantum Kernel**\n",
    "\n",
    "One we have encoded and run our quantum feature map, we need to extract the data properly from our quantum kernel again from the quantum circuit to feed it into the classical SVM algorithm. We do this by calculating the overlap between our computed states, $K(\\overrightarrow x, \\overrightarrow z) = |\\langle\\Phi(\\overrightarrow x)|\\Phi(\\overrightarrow z)\\rangle|^2 $\n",
    "\n",
    "\n",
    "references: \n",
    "\n",
    "[1] https://medium.com/@patrick.huembeli/introduction-into-quantum-support-vector-machines-727f3ccfa2b4\n",
    "\n",
    "[2] https://arxiv.org/pdf/1804.11326.pdf"
   ]
  },
  {
   "cell_type": "code",
   "execution_count": 1,
   "metadata": {},
   "outputs": [],
   "source": [
    "import warnings\n",
    "warnings.filterwarnings(\"ignore\")"
   ]
  },
  {
   "cell_type": "code",
   "execution_count": 2,
   "metadata": {},
   "outputs": [],
   "source": [
    "import numpy as np\n",
    "import scipy\n",
    "from scipy.linalg import expm\n",
    "import matplotlib.pyplot as plt\n",
    "from mpl_toolkits.mplot3d import Axes3D\n",
    "from sklearn import datasets\n",
    "from sklearn.model_selection import train_test_split\n",
    "from sklearn.preprocessing import StandardScaler, MinMaxScaler\n",
    "from sklearn.decomposition import PCA"
   ]
  },
  {
   "cell_type": "code",
   "execution_count": 30,
   "metadata": {},
   "outputs": [],
   "source": [
    "def iris(training_size, test_size, n, PLOT_DATA=True):\n",
    "    class_labels = [r'Class 0', r'Class 1']\n",
    "    \n",
    "    # First the dataset must be imported.\n",
    "    data_set = datasets.load_wine()\n",
    "    \n",
    "    # To find if the classifier is accurate, a common strategy is\n",
    "    # to divide the dataset into a training set and a test set.\n",
    "    # Here the data is divided into 70% training, 30% testing.\n",
    "    X_train, X_test, Y_train, Y_test = train_test_split(data_set.data, data_set.target, test_size=0.3, random_state=109)\n",
    "    \n",
    "    # Now the dataset's features will be standardized\n",
    "    # to fit a normal distribution.\n",
    "    scaler = StandardScaler().fit(X_train)\n",
    "    X_train = scaler.transform(X_train)\n",
    "    X_test = scaler.transform(X_test)\n",
    "    \n",
    "    # To be able to use this data with the given\n",
    "    # number of qubits, the data must be broken down from\n",
    "    # 30 dimensions to `n` dimensions.\n",
    "    # This is done with Principal Component Analysis (PCA),\n",
    "    # which finds patterns while keeping variation.\n",
    "    pca = PCA(n_components=n).fit(X_train)\n",
    "    X_train = pca.transform(X_train)\n",
    "    X_test = pca.transform(X_test)\n",
    "\n",
    "    # The last step in the data processing is\n",
    "    # to scale the data to be between -1 and 1\n",
    "    samples = np.append(X_train, X_test, axis=0)\n",
    "    minmax_scale = MinMaxScaler((-1, 1)).fit(samples)\n",
    "    X_train = minmax_scale.transform(X_train)\n",
    "    X_test = minmax_scale.transform(X_test)\n",
    "\n",
    "    # Now some sample should be picked to train the model from\n",
    "    training_input = {key: (X_train[Y_train == k, :])[:training_size] for k, key in enumerate(class_labels)}\n",
    "    test_input = {key: (X_train[Y_train == k, :])[training_size:(\n",
    "        training_size+test_size)] for k, key in enumerate(class_labels)}\n",
    "\n",
    "    if PLOT_DATA:\n",
    "        for k in range(0, 2):\n",
    "            x_axis_data = X_train[Y_train == k, 0][:training_size]\n",
    "            y_axis_data = X_train[Y_train == k, 1][:training_size]\n",
    "            \n",
    "            label = 'Class 0' if k is 1 else 'Class 1'\n",
    "            plt.scatter(x_axis_data, y_axis_data, label=label)\n",
    "\n",
    "        plt.title(\"Datset\")\n",
    "        plt.legend()\n",
    "        plt.show()\n",
    "        \n",
    "\n",
    "    return X_train, training_input, test_input, class_labels"
   ]
  },
  {
   "cell_type": "code",
   "execution_count": 31,
   "metadata": {},
   "outputs": [
    {
     "data": {
      "image/png": "[encoded data removed]",
      "text/plain": [
       "<Figure size 432x288 with 1 Axes>"
      ]
     },
     "metadata": {
      "needs_background": "light"
     },
     "output_type": "display_data"
    },
    {
     "name": "stdout",
     "output_type": "stream",
     "text": [
      "{'Class 0': 0, 'Class 1': 1}\n"
     ]
    }
   ],
   "source": [
    "from qiskit.aqua.utils import split_dataset_to_data_and_labels\n",
    "\n",
    "n = 2 # How many features to use (dimensionality)\n",
    "training_dataset_size = 20\n",
    "testing_dataset_size = 10\n",
    "\n",
    "sample_Total, training_input, test_input, class_labels = iris(training_dataset_size, testing_dataset_size, n)\n",
    "\n",
    "datapoints, class_to_label = split_dataset_to_data_and_labels(test_input)\n",
    "print(class_to_label)"
   ]
  },
  {
   "cell_type": "code",
   "execution_count": 32,
   "metadata": {},
   "outputs": [],
   "source": [
    "from qiskit.aqua.algorithms import QSVM\n",
    "#from qiskit.aqua.components.feature_maps import SecondOrderExpansion\n",
    "from qiskit.circuit.library import ZZFeatureMap\n",
    "\n",
    "#feature_map = SecondOrderExpansion(feature_dimension=2, \n",
    "#                                   depth=1)\n",
    "\n",
    "feature_map = ZZFeatureMap(2, reps=2)\n",
    "\n",
    "\n",
    "x = np.array([0.6, 0.3])\n",
    "#print(feature_map.construct_circuit(x))\n",
    "\n",
    "qsvm = QSVM(feature_map, training_input, test_input)"
   ]
  },
  {
   "cell_type": "code",
   "execution_count": 33,
   "metadata": {},
   "outputs": [],
   "source": [
    "from qiskit.aqua import QuantumInstance\n",
    "from qiskit import BasicAer\n",
    "\n",
    "backend = BasicAer.get_backend('statevector_simulator')\n",
    "quantum_instance = QuantumInstance(backend, shots=1024)\n",
    "\n",
    "result = qsvm.run(quantum_instance)"
   ]
  },
  {
   "cell_type": "code",
   "execution_count": 34,
   "metadata": {},
   "outputs": [
    {
     "name": "stdout",
     "output_type": "stream",
     "text": [
      "kernel matrix during the training:\n"
     ]
    },
    {
     "data": {
      "image/png": "[encoded data removed]",
      "text/plain": [
       "<Figure size 432x288 with 1 Axes>"
      ]
     },
     "metadata": {
      "needs_background": "light"
     },
     "output_type": "display_data"
    },
    {
     "name": "stdout",
     "output_type": "stream",
     "text": [
      "testing success ratio:  0.95\n"
     ]
    }
   ],
   "source": [
    "print(\"kernel matrix during the training:\")\n",
    "kernel_matrix = result['kernel_matrix_training']\n",
    "img = plt.imshow(np.asmatrix(kernel_matrix),interpolation='nearest',origin='upper',cmap='bone_r')\n",
    "plt.show()\n",
    "\n",
    "print(\"testing success ratio: \", result['testing_accuracy'])"
   ]
  },
  {
   "cell_type": "code",
   "execution_count": 36,
   "metadata": {},
   "outputs": [],
   "source": [
    "#print(datasets.load_wine())"
   ]
  },
  {
   "cell_type": "code",
   "execution_count": null,
   "metadata": {},
   "outputs": [],
   "source": []
  }
 ],
 "metadata": {
  "kernelspec": {
   "display_name": "Python 3",
   "language": "python",
   "name": "python3"
  },
  "language_info": {
   "codemirror_mode": {
    "name": "ipython",
    "version": 3
   },
   "file_extension": ".py",
   "mimetype": "text/x-python",
   "name": "python",
   "nbconvert_exporter": "python",
   "pygments_lexer": "ipython3",
   "version": "3.7.4"
  }
 },
 "nbformat": 4,
 "nbformat_minor": 2
}
