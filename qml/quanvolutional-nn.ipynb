{
 "cells": [
  {
   "cell_type": "code",
   "execution_count": 35,
   "metadata": {},
   "outputs": [],
   "source": [
    "# original code from https://pennylane.ai/qml/demos/tutorial_quanvolution.html \n",
    "# datasets: https://keras.io/api/datasets/"
   ]
  },
  {
   "cell_type": "markdown",
   "metadata": {},
   "source": [
    "### Overview of Quanvolutional Neural Networks\n",
    "\n",
    "#### Classical Convolutional NN\n",
    "CNNs are a useful classical machine learning tool with a big application in the world of image processing. The way they work is that they use a *convolutational* layer to process smaller parts of an input image. They repeat this process with every small local subsection of the input image, and using the same kernel to compute them all. The results obtained for each region are usually associated to different channels of a single output pixel. The union of all the output pixels produces a new image-like object, which can be further processed by additional layers. [1]\n",
    "\n",
    "#### Quantum Convolutional NN\n",
    "In a similar fashion, we can extend the idea of using a variational quantum circuits to achieve the same outcome (with a possible quantum speed-up in the near-term). We can encode a region of the input image into our quantum circuit, and then use a unitary operator as our convolutional layer. Afterwards, we measure the quantum circuit (and be post-processed, or used raw). Each expectation value we obtain can then be mapped to a different channel of a single output pixel (similar to classical convolution). We repeat this until we have processed an entire image.\n",
    "\n",
    "The main difference with respect to a classical convolution is that a quantum circuit can generate highly complex kernels whose computation could be, at least in principle, classically intractable. [1]\n",
    "\n",
    "\n",
    "#### Steps for the Quanvolutional Neural Net Algorithm\n",
    "1. a small region of the input image is embedded into a quantum circuit\n",
    "2. define and apply our unitary operator (analgous to the classical convolution layer) \n",
    "3. measure and obtain the expectation values associated with each pixel\n",
    "4. repeat 1-3 until the whole input image is processed\n",
    "5. (optional) the quantum convolution can be followed by further quantum layers or by classical layers.\n",
    "\n",
    "\n",
    "references:\n",
    "\n",
    "[1] https://pennylane.ai/qml/demos/tutorial_quanvolution.html"
   ]
  },
  {
   "cell_type": "markdown",
   "metadata": {},
   "source": [
    "### Image of the Quanvolution Neural Net Process from pennylane:\n",
    "\n",
    "![alt text](images/qcnn.png \"QCNN Circuit\")"
   ]
  },
  {
   "cell_type": "code",
   "execution_count": 1,
   "metadata": {},
   "outputs": [],
   "source": [
    "import pennylane as qml\n",
    "from pennylane import numpy as np\n",
    "from pennylane.templates import RandomLayers\n",
    "import tensorflow as tf\n",
    "from tensorflow import keras\n",
    "import matplotlib.pyplot as plt"
   ]
  },
  {
   "cell_type": "code",
   "execution_count": 2,
   "metadata": {},
   "outputs": [],
   "source": [
    "n_epochs = 30   # Number of optimization epochs\n",
    "n_layers = 3    # Number of random layers\n",
    "n_train = 60    # Size of the train dataset\n",
    "n_test = 30     # Size of the test dataset\n",
    "\n",
    "SAVE_PATH = \"quanvolution/\" # Data saving folder\n",
    "PREPROCESS = True           # If False, skip quantum processing and load data from SAVE_PATH\n",
    "np.random.seed(0)           # Seed for NumPy random number generator\n",
    "tf.random.set_seed(0)       # Seed for TensorFlow random number generator"
   ]
  },
  {
   "cell_type": "code",
   "execution_count": 3,
   "metadata": {},
   "outputs": [],
   "source": [
    "mnist_dataset = keras.datasets.mnist\n",
    "(train_images, train_labels), (test_images, test_labels) = mnist_dataset.load_data()\n",
    "\n",
    "# Reduce dataset size\n",
    "train_images = train_images[:n_train]\n",
    "train_labels = train_labels[:n_train]\n",
    "test_images = test_images[:n_test]\n",
    "test_labels = test_labels[:n_test]\n",
    "\n",
    "# Normalize pixel values within 0 and 1\n",
    "train_images = train_images / 255\n",
    "test_images = test_images / 255\n",
    "\n",
    "# Add extra dimension for convolution channels\n",
    "train_images = train_images[..., tf.newaxis]\n",
    "test_images = test_images[..., tf.newaxis]"
   ]
  },
  {
   "cell_type": "code",
   "execution_count": 4,
   "metadata": {},
   "outputs": [],
   "source": [
    "dev = qml.device(\"lightning.qubit\", wires=4)\n",
    "# Random circuit parameters\n",
    "rand_params = np.random.uniform(high=2 * np.pi, size=(n_layers, 4))\n",
    "\n",
    "@qml.qnode(dev)\n",
    "def circuit(phi=None):\n",
    "    # Encoding of 4 classical input values\n",
    "    for j in range(4):\n",
    "        angle = float(phi[j] * np.pi)\n",
    "        #print(type(angle))\n",
    "        qml.RY(angle, wires=j)\n",
    "\n",
    "    # Random quantum circuit\n",
    "    RandomLayers(rand_params, wires=list(range(4)))\n",
    "\n",
    "    # Measurement producing 4 classical output values\n",
    "    return [qml.expval(qml.PauliZ(j)) for j in range(4)]"
   ]
  },
  {
   "cell_type": "code",
   "execution_count": 5,
   "metadata": {},
   "outputs": [],
   "source": [
    "def quanv(image):\n",
    "    \"\"\"Convolves the input image with many applications of the same quantum circuit.\"\"\"\n",
    "    out = np.zeros((14, 14, 4))\n",
    "\n",
    "    # Loop over the coordinates of the top-left pixel of 2X2 squares\n",
    "    for j in range(0, 28, 2):\n",
    "        for k in range(0, 28, 2):\n",
    "            # Process a squared 2x2 region of the image with a quantum circuit\n",
    "            q_results = circuit(\n",
    "                phi=[image[j, k, 0], image[j, k + 1, 0], image[j + 1, k, 0], image[j + 1, k + 1, 0]]\n",
    "            )\n",
    "            # Assign expectation values to different channels of the output pixel (j/2, k/2)\n",
    "            for c in range(4):\n",
    "                out[j // 2, k // 2, c] = q_results[c]\n",
    "    return out"
   ]
  },
  {
   "cell_type": "code",
   "execution_count": 6,
   "metadata": {},
   "outputs": [
    {
     "name": "stdout",
     "output_type": "stream",
     "text": [
      "Quantum pre-processing of train images:\n",
      "60/60        \n",
      "Quantum pre-processing of test images:\n",
      "30/30        \r"
     ]
    }
   ],
   "source": [
    "if PREPROCESS == True:\n",
    "    q_train_images = []\n",
    "    print(\"Quantum pre-processing of train images:\")\n",
    "    for idx, img in enumerate(train_images):\n",
    "        print(\"{}/{}        \".format(idx + 1, n_train), end=\"\\r\")\n",
    "        q_train_images.append(quanv(img))\n",
    "    q_train_images = np.asarray(q_train_images)\n",
    "\n",
    "    q_test_images = []\n",
    "    print(\"\\nQuantum pre-processing of test images:\")\n",
    "    for idx, img in enumerate(test_images):\n",
    "        print(\"{}/{}        \".format(idx + 1, n_test), end=\"\\r\")\n",
    "        q_test_images.append(quanv(img))\n",
    "    q_test_images = np.asarray(q_test_images)\n",
    "\n",
    "    # Save pre-processed images\n",
    "    np.save(SAVE_PATH + \"q_train_images.npy\", q_train_images)\n",
    "    np.save(SAVE_PATH + \"q_test_images.npy\", q_test_images)\n",
    "\n",
    "\n",
    "# Load pre-processed images\n",
    "q_train_images = np.load(SAVE_PATH + \"q_train_images.npy\")\n",
    "q_test_images = np.load(SAVE_PATH + \"q_test_images.npy\")"
   ]
  },
  {
   "cell_type": "code",
   "execution_count": 7,
   "metadata": {},
   "outputs": [
    {
     "data": {
      "image/png": "[encoded data removed]",
      "text/plain": [
       "<Figure size 720x720 with 20 Axes>"
      ]
     },
     "metadata": {
      "needs_background": "light"
     },
     "output_type": "display_data"
    }
   ],
   "source": [
    "n_samples = 4\n",
    "n_channels = 4\n",
    "fig, axes = plt.subplots(1 + n_channels, n_samples, figsize=(10, 10))\n",
    "for k in range(n_samples):\n",
    "    axes[0, 0].set_ylabel(\"Input\")\n",
    "    if k != 0:\n",
    "        axes[0, k].yaxis.set_visible(False)\n",
    "    axes[0, k].imshow(train_images[k, :, :, 0], cmap=\"gray\")\n",
    "\n",
    "    # Plot all output channels\n",
    "    for c in range(n_channels):\n",
    "        axes[c + 1, 0].set_ylabel(\"Output [ch. {}]\".format(c))\n",
    "        if k != 0:\n",
    "            axes[c, k].yaxis.set_visible(False)\n",
    "        axes[c + 1, k].imshow(q_train_images[k, :, :, c], cmap=\"gray\")\n",
    "\n",
    "plt.tight_layout()\n",
    "plt.show()"
   ]
  },
  {
   "cell_type": "code",
   "execution_count": 8,
   "metadata": {},
   "outputs": [],
   "source": [
    "def MyModel():\n",
    "    \"\"\"Initializes and returns a custom Keras model\n",
    "    which is ready to be trained.\"\"\"\n",
    "    model = keras.models.Sequential([\n",
    "        keras.layers.Flatten(),\n",
    "        keras.layers.Dense(10, activation=\"softmax\")\n",
    "    ])\n",
    "\n",
    "    model.compile(\n",
    "        optimizer='adam',\n",
    "        loss=\"sparse_categorical_crossentropy\",\n",
    "        metrics=[\"accuracy\"],\n",
    "    )\n",
    "    return model"
   ]
  },
  {
   "cell_type": "code",
   "execution_count": 9,
   "metadata": {},
   "outputs": [
    {
     "name": "stdout",
     "output_type": "stream",
     "text": [
      "Train on 60 samples, validate on 30 samples\n",
      "Epoch 1/30\n",
      "60/60 - 1s - loss: 2.8843 - accuracy: 0.0333 - val_loss: 2.3712 - val_accuracy: 0.1333\n",
      "Epoch 2/30\n",
      "60/60 - 0s - loss: 2.1246 - accuracy: 0.3000 - val_loss: 1.9860 - val_accuracy: 0.2667\n",
      "Epoch 3/30\n",
      "60/60 - 0s - loss: 1.5787 - accuracy: 0.5500 - val_loss: 1.8094 - val_accuracy: 0.4667\n",
      "Epoch 4/30\n",
      "60/60 - 0s - loss: 1.2851 - accuracy: 0.6667 - val_loss: 1.6129 - val_accuracy: 0.4667\n",
      "Epoch 5/30\n",
      "60/60 - 0s - loss: 1.0011 - accuracy: 0.7333 - val_loss: 1.5129 - val_accuracy: 0.5667\n",
      "Epoch 6/30\n",
      "60/60 - 0s - loss: 0.7700 - accuracy: 0.9000 - val_loss: 1.3858 - val_accuracy: 0.6333\n",
      "Epoch 7/30\n",
      "60/60 - 0s - loss: 0.6488 - accuracy: 0.9500 - val_loss: 1.3666 - val_accuracy: 0.6667\n",
      "Epoch 8/30\n",
      "60/60 - 0s - loss: 0.5348 - accuracy: 0.9500 - val_loss: 1.2751 - val_accuracy: 0.6667\n",
      "Epoch 9/30\n",
      "60/60 - 0s - loss: 0.4388 - accuracy: 1.0000 - val_loss: 1.2231 - val_accuracy: 0.7000\n",
      "Epoch 10/30\n",
      "60/60 - 0s - loss: 0.3920 - accuracy: 0.9833 - val_loss: 1.2116 - val_accuracy: 0.6667\n",
      "Epoch 11/30\n",
      "60/60 - 0s - loss: 0.3181 - accuracy: 0.9833 - val_loss: 1.1660 - val_accuracy: 0.7000\n",
      "Epoch 12/30\n",
      "60/60 - 0s - loss: 0.2854 - accuracy: 1.0000 - val_loss: 1.1630 - val_accuracy: 0.7000\n",
      "Epoch 13/30\n",
      "60/60 - 0s - loss: 0.2329 - accuracy: 1.0000 - val_loss: 1.1286 - val_accuracy: 0.6667\n",
      "Epoch 14/30\n",
      "60/60 - 0s - loss: 0.2129 - accuracy: 1.0000 - val_loss: 1.1073 - val_accuracy: 0.7000\n",
      "Epoch 15/30\n",
      "60/60 - 0s - loss: 0.1879 - accuracy: 1.0000 - val_loss: 1.0867 - val_accuracy: 0.7000\n",
      "Epoch 16/30\n",
      "60/60 - 0s - loss: 0.1748 - accuracy: 1.0000 - val_loss: 1.1251 - val_accuracy: 0.6667\n",
      "Epoch 17/30\n",
      "60/60 - 0s - loss: 0.1528 - accuracy: 1.0000 - val_loss: 1.0792 - val_accuracy: 0.7000\n",
      "Epoch 18/30\n",
      "60/60 - 0s - loss: 0.1388 - accuracy: 1.0000 - val_loss: 1.0708 - val_accuracy: 0.6667\n",
      "Epoch 19/30\n",
      "60/60 - 0s - loss: 0.1260 - accuracy: 1.0000 - val_loss: 1.0568 - val_accuracy: 0.7000\n",
      "Epoch 20/30\n",
      "60/60 - 0s - loss: 0.1123 - accuracy: 1.0000 - val_loss: 1.0470 - val_accuracy: 0.7000\n",
      "Epoch 21/30\n",
      "60/60 - 0s - loss: 0.1079 - accuracy: 1.0000 - val_loss: 1.0497 - val_accuracy: 0.7000\n",
      "Epoch 22/30\n",
      "60/60 - 0s - loss: 0.0962 - accuracy: 1.0000 - val_loss: 1.0483 - val_accuracy: 0.7000\n",
      "Epoch 23/30\n",
      "60/60 - 0s - loss: 0.0902 - accuracy: 1.0000 - val_loss: 1.0198 - val_accuracy: 0.7000\n",
      "Epoch 24/30\n",
      "60/60 - 0s - loss: 0.0851 - accuracy: 1.0000 - val_loss: 1.0471 - val_accuracy: 0.7000\n",
      "Epoch 25/30\n",
      "60/60 - 0s - loss: 0.0789 - accuracy: 1.0000 - val_loss: 1.0158 - val_accuracy: 0.7000\n",
      "Epoch 26/30\n",
      "60/60 - 0s - loss: 0.0747 - accuracy: 1.0000 - val_loss: 1.0485 - val_accuracy: 0.7000\n",
      "Epoch 27/30\n",
      "60/60 - 0s - loss: 0.0679 - accuracy: 1.0000 - val_loss: 1.0219 - val_accuracy: 0.7000\n",
      "Epoch 28/30\n",
      "60/60 - 0s - loss: 0.0661 - accuracy: 1.0000 - val_loss: 1.0070 - val_accuracy: 0.7000\n",
      "Epoch 29/30\n",
      "60/60 - 0s - loss: 0.0610 - accuracy: 1.0000 - val_loss: 0.9990 - val_accuracy: 0.7000\n",
      "Epoch 30/30\n",
      "60/60 - 0s - loss: 0.0574 - accuracy: 1.0000 - val_loss: 1.0254 - val_accuracy: 0.7000\n"
     ]
    }
   ],
   "source": [
    "q_model = MyModel()\n",
    "\n",
    "q_history = q_model.fit(\n",
    "    q_train_images,\n",
    "    train_labels,\n",
    "    validation_data=(q_test_images, test_labels),\n",
    "    batch_size=4,\n",
    "    epochs=n_epochs,\n",
    "    verbose=2,\n",
    ")"
   ]
  },
  {
   "cell_type": "code",
   "execution_count": 10,
   "metadata": {},
   "outputs": [
    {
     "name": "stdout",
     "output_type": "stream",
     "text": [
      "Train on 60 samples, validate on 30 samples\n",
      "Epoch 1/30\n",
      "60/60 - 1s - loss: 2.4097 - accuracy: 0.1333 - val_loss: 2.3252 - val_accuracy: 0.0667\n",
      "Epoch 2/30\n",
      "60/60 - 0s - loss: 1.9619 - accuracy: 0.3667 - val_loss: 2.0486 - val_accuracy: 0.2667\n",
      "Epoch 3/30\n",
      "60/60 - 0s - loss: 1.6423 - accuracy: 0.6000 - val_loss: 1.8628 - val_accuracy: 0.5000\n",
      "Epoch 4/30\n",
      "60/60 - 0s - loss: 1.3931 - accuracy: 0.7333 - val_loss: 1.6964 - val_accuracy: 0.6333\n",
      "Epoch 5/30\n",
      "60/60 - 0s - loss: 1.1747 - accuracy: 0.8500 - val_loss: 1.5751 - val_accuracy: 0.6000\n",
      "Epoch 6/30\n",
      "60/60 - 0s - loss: 1.0092 - accuracy: 0.9000 - val_loss: 1.4693 - val_accuracy: 0.7000\n",
      "Epoch 7/30\n",
      "60/60 - 0s - loss: 0.8735 - accuracy: 0.9500 - val_loss: 1.4005 - val_accuracy: 0.7000\n",
      "Epoch 8/30\n",
      "60/60 - 0s - loss: 0.7663 - accuracy: 0.9500 - val_loss: 1.3381 - val_accuracy: 0.7000\n",
      "Epoch 9/30\n",
      "60/60 - 0s - loss: 0.6733 - accuracy: 0.9500 - val_loss: 1.2897 - val_accuracy: 0.7333\n",
      "Epoch 10/30\n",
      "60/60 - 0s - loss: 0.5990 - accuracy: 0.9500 - val_loss: 1.2440 - val_accuracy: 0.7000\n",
      "Epoch 11/30\n",
      "60/60 - 0s - loss: 0.5322 - accuracy: 0.9667 - val_loss: 1.2019 - val_accuracy: 0.7333\n",
      "Epoch 12/30\n",
      "60/60 - 0s - loss: 0.4791 - accuracy: 0.9833 - val_loss: 1.1805 - val_accuracy: 0.7333\n",
      "Epoch 13/30\n",
      "60/60 - 0s - loss: 0.4306 - accuracy: 0.9833 - val_loss: 1.1555 - val_accuracy: 0.7333\n",
      "Epoch 14/30\n",
      "60/60 - 0s - loss: 0.3888 - accuracy: 1.0000 - val_loss: 1.1318 - val_accuracy: 0.7333\n",
      "Epoch 15/30\n",
      "60/60 - 0s - loss: 0.3575 - accuracy: 1.0000 - val_loss: 1.1107 - val_accuracy: 0.7333\n",
      "Epoch 16/30\n",
      "60/60 - 0s - loss: 0.3239 - accuracy: 1.0000 - val_loss: 1.1035 - val_accuracy: 0.7333\n",
      "Epoch 17/30\n",
      "60/60 - 0s - loss: 0.2977 - accuracy: 1.0000 - val_loss: 1.0938 - val_accuracy: 0.7333\n",
      "Epoch 18/30\n",
      "60/60 - 0s - loss: 0.2731 - accuracy: 1.0000 - val_loss: 1.0760 - val_accuracy: 0.7333\n",
      "Epoch 19/30\n",
      "60/60 - 0s - loss: 0.2524 - accuracy: 1.0000 - val_loss: 1.0648 - val_accuracy: 0.7333\n",
      "Epoch 20/30\n",
      "60/60 - 0s - loss: 0.2326 - accuracy: 1.0000 - val_loss: 1.0529 - val_accuracy: 0.7333\n",
      "Epoch 21/30\n",
      "60/60 - 0s - loss: 0.2178 - accuracy: 1.0000 - val_loss: 1.0421 - val_accuracy: 0.7333\n",
      "Epoch 22/30\n",
      "60/60 - 0s - loss: 0.2011 - accuracy: 1.0000 - val_loss: 1.0398 - val_accuracy: 0.7333\n",
      "Epoch 23/30\n",
      "60/60 - 0s - loss: 0.1881 - accuracy: 1.0000 - val_loss: 1.0277 - val_accuracy: 0.7333\n",
      "Epoch 24/30\n",
      "60/60 - 0s - loss: 0.1761 - accuracy: 1.0000 - val_loss: 1.0273 - val_accuracy: 0.7333\n",
      "Epoch 25/30\n",
      "60/60 - 0s - loss: 0.1645 - accuracy: 1.0000 - val_loss: 1.0156 - val_accuracy: 0.7333\n",
      "Epoch 26/30\n",
      "60/60 - 0s - loss: 0.1550 - accuracy: 1.0000 - val_loss: 1.0167 - val_accuracy: 0.7333\n",
      "Epoch 27/30\n",
      "60/60 - 0s - loss: 0.1452 - accuracy: 1.0000 - val_loss: 1.0109 - val_accuracy: 0.7333\n",
      "Epoch 28/30\n",
      "60/60 - 0s - loss: 0.1375 - accuracy: 1.0000 - val_loss: 1.0033 - val_accuracy: 0.7333\n",
      "Epoch 29/30\n",
      "60/60 - 0s - loss: 0.1294 - accuracy: 1.0000 - val_loss: 0.9965 - val_accuracy: 0.7333\n",
      "Epoch 30/30\n",
      "60/60 - 0s - loss: 0.1224 - accuracy: 1.0000 - val_loss: 0.9947 - val_accuracy: 0.7333\n"
     ]
    }
   ],
   "source": [
    "c_model = MyModel()\n",
    "\n",
    "c_history = c_model.fit(\n",
    "    train_images,\n",
    "    train_labels,\n",
    "    validation_data=(test_images, test_labels),\n",
    "    batch_size=4,\n",
    "    epochs=n_epochs,\n",
    "    verbose=2,\n",
    ")"
   ]
  },
  {
   "cell_type": "code",
   "execution_count": 11,
   "metadata": {},
   "outputs": [
    {
     "data": {
      "image/png": "[encoded data removed]",
      "text/plain": [
       "<Figure size 432x648 with 2 Axes>"
      ]
     },
     "metadata": {},
     "output_type": "display_data"
    }
   ],
   "source": [
    "import matplotlib.pyplot as plt\n",
    "\n",
    "plt.style.use(\"seaborn\")\n",
    "fig, (ax1, ax2) = plt.subplots(2, 1, figsize=(6, 9))\n",
    "\n",
    "ax1.plot(q_history.history[\"val_accuracy\"], \"-ob\", label=\"With quantum layer\")\n",
    "ax1.plot(c_history.history[\"val_accuracy\"], \"-og\", label=\"Without quantum layer\")\n",
    "ax1.set_ylabel(\"Accuracy\")\n",
    "ax1.set_ylim([0, 1])\n",
    "ax1.set_xlabel(\"Epoch\")\n",
    "ax1.legend()\n",
    "\n",
    "ax2.plot(q_history.history[\"val_loss\"], \"-ob\", label=\"With quantum layer\")\n",
    "ax2.plot(c_history.history[\"val_loss\"], \"-og\", label=\"Without quantum layer\")\n",
    "ax2.set_ylabel(\"Loss\")\n",
    "ax2.set_ylim(top=2.5)\n",
    "ax2.set_xlabel(\"Epoch\")\n",
    "ax2.legend()\n",
    "plt.tight_layout()\n",
    "plt.show()"
   ]
  },
  {
   "cell_type": "code",
   "execution_count": null,
   "metadata": {},
   "outputs": [],
   "source": []
  },
  {
   "cell_type": "code",
   "execution_count": null,
   "metadata": {},
   "outputs": [],
   "source": []
  }
 ],
 "metadata": {
  "kernelspec": {
   "display_name": "Python 3",
   "language": "python",
   "name": "python3"
  },
  "language_info": {
   "codemirror_mode": {
    "name": "ipython",
    "version": 3
   },
   "file_extension": ".py",
   "mimetype": "text/x-python",
   "name": "python",
   "nbconvert_exporter": "python",
   "pygments_lexer": "ipython3",
   "version": "3.7.4"
  }
 },
 "nbformat": 4,
 "nbformat_minor": 2
}
