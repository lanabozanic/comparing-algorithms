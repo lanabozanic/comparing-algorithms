{
 "cells": [
  {
   "cell_type": "code",
   "execution_count": 1,
   "metadata": {},
   "outputs": [],
   "source": [
    "import matplotlib.pyplot as plt\n",
    "%matplotlib inline\n",
    "import numpy as np\n",
    "\n",
    "from qiskit import *\n",
    "from qiskit.providers.ibmq import least_busy\n",
    "from qiskit.circuit.library import QFT"
   ]
  },
  {
   "cell_type": "markdown",
   "metadata": {},
   "source": [
    "### Define components of the algorithm"
   ]
  },
  {
   "cell_type": "code",
   "execution_count": 2,
   "metadata": {},
   "outputs": [],
   "source": [
    "def initialize_qubits(given_circuit, measurement_qubits, target_qubit):\n",
    "    \n",
    "    ### WRITE YOUR CODE BETWEEN THESE LINES - START\n",
    "    \n",
    "    given_circuit.h(measurement_qubits)\n",
    "    given_circuit.x(target_qubit)\n",
    "    \n",
    "    ### WRITE YOUR CODE BETWEEN THESE LINES - END"
   ]
  },
  {
   "cell_type": "code",
   "execution_count": 3,
   "metadata": {},
   "outputs": [],
   "source": [
    "def unitary_operator(given_circuit, control_qubit, target_qubit, theta):\n",
    "    \n",
    "    ### WRITE YOUR CODE BETWEEN THESE LINES - START\n",
    "    \n",
    "    given_circuit.cu1(2*np.pi*theta, control_qubit, target_qubit)\n",
    "    \n",
    "    ### WRITE YOUR CODE BETWEEN THESE LINES - END"
   ]
  },
  {
   "cell_type": "code",
   "execution_count": 4,
   "metadata": {},
   "outputs": [],
   "source": [
    "def unitary_operator_exponent(given_circuit, control_qubit, target_qubit, theta, exponent):\n",
    "    \n",
    "    ### WRITE YOUR CODE BETWEEN THESE LINES - START\n",
    "    \n",
    "    given_circuit.cu1(2*np.pi*theta*exponent, control_qubit, target_qubit)\n",
    "    \n",
    "    ### WRITE YOUR CODE BETWEEN THESE LINES - END"
   ]
  },
  {
   "cell_type": "code",
   "execution_count": 5,
   "metadata": {},
   "outputs": [],
   "source": [
    "def apply_iqft(given_circuit, measurement_qubits, n):\n",
    "    \n",
    "    ### WRITE YOUR CODE BETWEEN THESE LINES - START\n",
    "    \n",
    "    given_circuit.append(QFT(n).inverse(), measurement_qubits)\n",
    "    \n",
    "    ### WRITE YOUR CODE BETWEEN THESE LINES - END"
   ]
  },
  {
   "cell_type": "markdown",
   "metadata": {},
   "source": [
    "### Construct algorithm using components"
   ]
  },
  {
   "cell_type": "code",
   "execution_count": 6,
   "metadata": {},
   "outputs": [],
   "source": [
    "def qpe_program(n, theta):\n",
    "    \n",
    "    # Create a quantum circuit on n+1 qubits (n measurement, 1 target)\n",
    "    qc = QuantumCircuit(n+1, n)\n",
    "    \n",
    "    # Initialize the qubits\n",
    "    initialize_qubits(qc, range(n), n)\n",
    "    \n",
    "    # Apply the controlled unitary operators in sequence\n",
    "    for x in range(n):\n",
    "        exponent = 2**(n-x-1)\n",
    "        unitary_operator_exponent(qc, x, n, theta, exponent)\n",
    "        \n",
    "    # Apply the inverse quantum Fourier transform\n",
    "    apply_iqft(qc, range(n), n)\n",
    "    \n",
    "    # Measure all qubits\n",
    "    qc.measure(range(n), range(n))\n",
    "  \n",
    "    return qc"
   ]
  },
  {
   "cell_type": "markdown",
   "metadata": {},
   "source": [
    "### Execute algorithm on simulator and real hardware with 4 qubits test case"
   ]
  },
  {
   "cell_type": "code",
   "execution_count": null,
   "metadata": {
    "scrolled": true
   },
   "outputs": [],
   "source": [
    "# Define number of qubits and theta value\n",
    "n = 4; theta = 0.5\n",
    "test_circuit = qpe_program(n, theta)\n",
    "test_circuit.draw(output='text')"
   ]
  },
  {
   "cell_type": "code",
   "execution_count": null,
   "metadata": {
    "scrolled": true
   },
   "outputs": [],
   "source": [
    "from qiskit import Aer, execute\n",
    "simulator = Aer.get_backend('qasm_simulator')\n",
    "counts = execute(test_circuit, backend=simulator, shots=1000).result().get_counts(test_circuit)\n",
    "from qiskit.visualization import plot_histogram\n",
    "plot_histogram(counts)"
   ]
  },
  {
   "cell_type": "code",
   "execution_count": null,
   "metadata": {},
   "outputs": [],
   "source": [
    "import operator\n",
    "highest_probability_outcome = max(counts.items(), key=operator.itemgetter(1))[0][::-1]\n",
    "measured_theta = int(highest_probability_outcome, 2)/2**n\n",
    "print(\"Using %d qubits with theta = %.2f, measured_theta = %.2f.\" % (n, theta, measured_theta))"
   ]
  },
  {
   "cell_type": "code",
   "execution_count": null,
   "metadata": {},
   "outputs": [],
   "source": [
    "provider = IBMQ.load_account()\n",
    "device = least_busy(provider.backends(simulator=False))\n",
    "print(\"Running on current least busy device: \", device)\n",
    "\n",
    "from qiskit.tools.monitor import job_monitor\n",
    "job = execute(test_circuit, backend=device, shots=1000, max_credits=10)\n",
    "job_monitor(job, interval = 2)"
   ]
  },
  {
   "cell_type": "code",
   "execution_count": null,
   "metadata": {},
   "outputs": [],
   "source": [
    "counts = job.result().get_counts()\n",
    "plot_histogram(counts)"
   ]
  },
  {
   "cell_type": "markdown",
   "metadata": {},
   "source": [
    "## Benchmarking runtime for simulator"
   ]
  },
  {
   "cell_type": "code",
   "execution_count": 10,
   "metadata": {},
   "outputs": [],
   "source": [
    "def p_even(lst):\n",
    "    return [x for x in lst if not x % 2]"
   ]
  },
  {
   "cell_type": "code",
   "execution_count": 36,
   "metadata": {},
   "outputs": [
    {
     "name": "stdout",
     "output_type": "stream",
     "text": [
      "2qubit times = [0.009991645812988281]\n",
      "2qubit times = [0.01399374008178711]\n",
      "2qubit times = [0.01099085807800293]\n",
      "2qubit times = [0.010996103286743164]\n",
      "2qubit times = [0.010993242263793945]\n",
      "4qubit times = [0.01898956298828125]\n",
      "4qubit times = [0.014992237091064453]\n",
      "4qubit times = [0.016986608505249023]\n",
      "4qubit times = [0.012993812561035156]\n",
      "4qubit times = [0.010995864868164062]\n",
      "6qubit times = [0.014987945556640625]\n",
      "6qubit times = [0.01554107666015625]\n",
      "6qubit times = [0.015723705291748047]\n",
      "6qubit times = [0.017856836318969727]\n",
      "6qubit times = [0.014995098114013672]\n",
      "8qubit times = [0.02198481559753418]\n",
      "8qubit times = [0.019986867904663086]\n",
      "8qubit times = [0.018990755081176758]\n",
      "8qubit times = [0.018985271453857422]\n",
      "8qubit times = [0.02298760414123535]\n",
      "10qubit times = [0.024981975555419922]\n",
      "10qubit times = [0.023984909057617188]\n",
      "10qubit times = [0.024077415466308594]\n",
      "10qubit times = [0.025217533111572266]\n",
      "10qubit times = [0.03597712516784668]\n",
      "12qubit times = [0.03497624397277832]\n",
      "12qubit times = [0.031981468200683594]\n",
      "12qubit times = [0.03472018241882324]\n",
      "12qubit times = [0.03498077392578125]\n",
      "12qubit times = [0.03198051452636719]\n",
      "14qubit times = [0.06296133995056152]\n",
      "14qubit times = [0.08494734764099121]\n",
      "14qubit times = [0.0839529037475586]\n",
      "14qubit times = [0.08694672584533691]\n",
      "14qubit times = [0.08494758605957031]\n",
      "16qubit times = [0.12192559242248535]\n",
      "16qubit times = [0.14790892601013184]\n",
      "16qubit times = [0.14491057395935059]\n",
      "16qubit times = [0.1349179744720459]\n",
      "16qubit times = [0.1449108123779297]\n",
      "18qubit times = [0.3188035488128662]\n",
      "18qubit times = [0.35578155517578125]\n",
      "18qubit times = [0.3547816276550293]\n",
      "18qubit times = [0.40775012969970703]\n",
      "18qubit times = [0.4067502021789551]\n",
      "20qubit times = [1.6329967975616455]\n",
      "20qubit times = [2.1556763648986816]\n",
      "20qubit times = [1.7319352626800537]\n",
      "20qubit times = [1.4171273708343506]\n",
      "20qubit times = [1.50007963180542]\n",
      "22qubit times = [6.8437933921813965]\n",
      "22qubit times = [6.495011568069458]\n",
      "22qubit times = [7.8511738777160645]\n",
      "22qubit times = [7.406450271606445]\n",
      "22qubit times = [7.478403806686401]\n",
      "24qubit times = [31.29677128791809]\n",
      "24qubit times = [28.50100016593933]\n",
      "24qubit times = [27.590047597885132]\n",
      "24qubit times = [26.958438634872437]\n",
      "24qubit times = [26.326822996139526]\n"
     ]
    }
   ],
   "source": [
    "theta = 0.5 \n",
    "\n",
    "for n in p_even(range(2, 26)):\n",
    "    test_circuit = qpe_program(n, theta)\n",
    "    \n",
    "    # Import and define simulator\n",
    "    from qiskit import Aer, execute\n",
    "    simulator = Aer.get_backend('qasm_simulator')\n",
    "    \n",
    "    \n",
    "    for i in range(5): \n",
    "        \n",
    "        # Time the simulation runtime and store values\n",
    "        benchmark_times = []\n",
    "        \n",
    "        import time\n",
    "        start_time = time.time()\n",
    "\n",
    "        counts = execute(test_circuit, backend=simulator, shots=1000).result().get_counts(test_circuit)\n",
    "\n",
    "        benchmark_times.append(time.time() - start_time)\n",
    "    \n",
    "        print(str(n) + 'qubit times = ' + str(benchmark_times))"
   ]
  },
  {
   "cell_type": "code",
   "execution_count": null,
   "metadata": {},
   "outputs": [],
   "source": []
  }
 ],
 "metadata": {
  "kernelspec": {
   "display_name": "Python 3",
   "language": "python",
   "name": "python3"
  },
  "language_info": {
   "codemirror_mode": {
    "name": "ipython",
    "version": 3
   },
   "file_extension": ".py",
   "mimetype": "text/x-python",
   "name": "python",
   "nbconvert_exporter": "python",
   "pygments_lexer": "ipython3",
   "version": "3.7.2"
  }
 },
 "nbformat": 4,
 "nbformat_minor": 2
}
