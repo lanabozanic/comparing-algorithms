{
 "cells": [
  {
   "cell_type": "code",
   "execution_count": 8,
   "metadata": {},
   "outputs": [],
   "source": [
    "import matplotlib.pyplot as plt\n",
    "%matplotlib inline\n",
    "import numpy as np\n",
    "\n",
    "from qiskit import *\n",
    "from qiskit.providers.ibmq import least_busy\n",
    "from qiskit.circuit.library import QFT"
   ]
  },
  {
   "cell_type": "markdown",
   "metadata": {},
   "source": [
    "### Define components of the algorithm"
   ]
  },
  {
   "cell_type": "code",
   "execution_count": 3,
   "metadata": {},
   "outputs": [],
   "source": [
    "def initialize_qubits(given_circuit, measurement_qubits, target_qubit):\n",
    "    \n",
    "    ### WRITE YOUR CODE BETWEEN THESE LINES - START\n",
    "    \n",
    "    given_circuit.h(measurement_qubits)\n",
    "    given_circuit.x(target_qubit)\n",
    "    \n",
    "    ### WRITE YOUR CODE BETWEEN THESE LINES - END"
   ]
  },
  {
   "cell_type": "code",
   "execution_count": 4,
   "metadata": {},
   "outputs": [],
   "source": [
    "def unitary_operator(given_circuit, control_qubit, target_qubit, theta):\n",
    "    \n",
    "    ### WRITE YOUR CODE BETWEEN THESE LINES - START\n",
    "    \n",
    "    given_circuit.cu1(2*np.pi*theta, control_qubit, target_qubit)\n",
    "    \n",
    "    ### WRITE YOUR CODE BETWEEN THESE LINES - END"
   ]
  },
  {
   "cell_type": "code",
   "execution_count": 5,
   "metadata": {},
   "outputs": [],
   "source": [
    "def unitary_operator_exponent(given_circuit, control_qubit, target_qubit, theta, exponent):\n",
    "    \n",
    "    ### WRITE YOUR CODE BETWEEN THESE LINES - START\n",
    "    \n",
    "    given_circuit.cu1(2*np.pi*theta*exponent, control_qubit, target_qubit)\n",
    "    \n",
    "    ### WRITE YOUR CODE BETWEEN THESE LINES - END"
   ]
  },
  {
   "cell_type": "code",
   "execution_count": 6,
   "metadata": {},
   "outputs": [],
   "source": [
    "def apply_iqft(given_circuit, measurement_qubits, n):\n",
    "    \n",
    "    ### WRITE YOUR CODE BETWEEN THESE LINES - START\n",
    "    \n",
    "    given_circuit.append(QFT(n).inverse(), measurement_qubits)\n",
    "    \n",
    "    ### WRITE YOUR CODE BETWEEN THESE LINES - END"
   ]
  },
  {
   "cell_type": "markdown",
   "metadata": {},
   "source": [
    "### Construct algorithm using components"
   ]
  },
  {
   "cell_type": "code",
   "execution_count": 12,
   "metadata": {},
   "outputs": [],
   "source": [
    "def qpe_program(n, theta):\n",
    "    \n",
    "    # Create a quantum circuit on n+1 qubits (n measurement, 1 target)\n",
    "    qc = QuantumCircuit(n+1, n)\n",
    "    \n",
    "    # Initialize the qubits\n",
    "    initialize_qubits(qc, range(n), n)\n",
    "    \n",
    "    # Apply the controlled unitary operators in sequence\n",
    "    for x in range(n):\n",
    "        exponent = 2**(n-x-1)\n",
    "        unitary_operator_exponent(qc, x, n, theta, exponent)\n",
    "        \n",
    "    # Apply the inverse quantum Fourier transform\n",
    "    apply_iqft(qc, range(n), n)\n",
    "    \n",
    "    # Measure all qubits\n",
    "    qc.measure(range(n), range(n))\n",
    "  \n",
    "    return qc"
   ]
  },
  {
   "cell_type": "markdown",
   "metadata": {},
   "source": [
    "### Execute algorithm on simulator and real hardware with 4 qubits test case"
   ]
  },
  {
   "cell_type": "code",
   "execution_count": 22,
   "metadata": {
    "scrolled": true
   },
   "outputs": [
    {
     "data": {
      "text/html": [
       "<pre style=\"word-wrap: normal;white-space: pre;background: #fff0;line-height: 1.1;font-family: &quot;Courier New&quot;,Courier,monospace\">     ┌───┐                       ┌───────┐┌─┐         \n",
       "q_0: ┤ H ├─■─────────────────────┤0      ├┤M├─────────\n",
       "     ├───┤ │                     │       │└╥┘┌─┐      \n",
       "q_1: ┤ H ├─┼─────■───────────────┤1      ├─╫─┤M├──────\n",
       "     ├───┤ │     │               │  iqft │ ║ └╥┘┌─┐   \n",
       "q_2: ┤ H ├─┼─────┼─────■─────────┤2      ├─╫──╫─┤M├───\n",
       "     ├───┤ │     │     │         │       │ ║  ║ └╥┘┌─┐\n",
       "q_3: ┤ H ├─┼─────┼─────┼─────■───┤3      ├─╫──╫──╫─┤M├\n",
       "     ├───┤ │8pi  │4pi  │2pi  │pi └───────┘ ║  ║  ║ └╥┘\n",
       "q_4: ┤ X ├─■─────■─────■─────■─────────────╫──╫──╫──╫─\n",
       "     └───┘                                 ║  ║  ║  ║ \n",
       "c_0: ══════════════════════════════════════╩══╬══╬══╬═\n",
       "                                              ║  ║  ║ \n",
       "c_1: ═════════════════════════════════════════╩══╬══╬═\n",
       "                                                 ║  ║ \n",
       "c_2: ════════════════════════════════════════════╩══╬═\n",
       "                                                    ║ \n",
       "c_3: ═══════════════════════════════════════════════╩═\n",
       "                                                      </pre>"
      ],
      "text/plain": [
       "     ┌───┐                       ┌───────┐┌─┐         \n",
       "q_0: ┤ H ├─■─────────────────────┤0      ├┤M├─────────\n",
       "     ├───┤ │                     │       │└╥┘┌─┐      \n",
       "q_1: ┤ H ├─┼─────■───────────────┤1      ├─╫─┤M├──────\n",
       "     ├───┤ │     │               │  iqft │ ║ └╥┘┌─┐   \n",
       "q_2: ┤ H ├─┼─────┼─────■─────────┤2      ├─╫──╫─┤M├───\n",
       "     ├───┤ │     │     │         │       │ ║  ║ └╥┘┌─┐\n",
       "q_3: ┤ H ├─┼─────┼─────┼─────■───┤3      ├─╫──╫──╫─┤M├\n",
       "     ├───┤ │8pi  │4pi  │2pi  │pi └───────┘ ║  ║  ║ └╥┘\n",
       "q_4: ┤ X ├─■─────■─────■─────■─────────────╫──╫──╫──╫─\n",
       "     └───┘                                 ║  ║  ║  ║ \n",
       "c_0: ══════════════════════════════════════╩══╬══╬══╬═\n",
       "                                              ║  ║  ║ \n",
       "c_1: ═════════════════════════════════════════╩══╬══╬═\n",
       "                                                 ║  ║ \n",
       "c_2: ════════════════════════════════════════════╩══╬═\n",
       "                                                    ║ \n",
       "c_3: ═══════════════════════════════════════════════╩═\n",
       "                                                      "
      ]
     },
     "execution_count": 22,
     "metadata": {},
     "output_type": "execute_result"
    }
   ],
   "source": [
    "# Define number of qubits and theta value\n",
    "n = 4; theta = 0.5\n",
    "test_circuit = qpe_program(n, theta)\n",
    "test_circuit.draw(output='text')"
   ]
  },
  {
   "cell_type": "code",
   "execution_count": 23,
   "metadata": {
    "scrolled": true
   },
   "outputs": [
    {
     "data": {
      "image/png": "[encoded data removed]",
      "text/plain": [
       "<Figure size 504x360 with 1 Axes>"
      ]
     },
     "execution_count": 23,
     "metadata": {},
     "output_type": "execute_result"
    }
   ],
   "source": [
    "from qiskit import Aer, execute\n",
    "simulator = Aer.get_backend('qasm_simulator')\n",
    "counts = execute(test_circuit, backend=simulator, shots=1000).result().get_counts(test_circuit)\n",
    "from qiskit.visualization import plot_histogram\n",
    "plot_histogram(counts)"
   ]
  },
  {
   "cell_type": "code",
   "execution_count": 24,
   "metadata": {},
   "outputs": [
    {
     "name": "stdout",
     "output_type": "stream",
     "text": [
      "Using 4 qubits with theta = 0.50, measured_theta = 0.50.\n"
     ]
    }
   ],
   "source": [
    "import operator\n",
    "highest_probability_outcome = max(counts.items(), key=operator.itemgetter(1))[0][::-1]\n",
    "measured_theta = int(highest_probability_outcome, 2)/2**n\n",
    "print(\"Using %d qubits with theta = %.2f, measured_theta = %.2f.\" % (n, theta, measured_theta))"
   ]
  },
  {
   "cell_type": "code",
   "execution_count": 25,
   "metadata": {},
   "outputs": [
    {
     "name": "stderr",
     "output_type": "stream",
     "text": [
      "ibmqfactory.load_account:WARNING:2020-08-17 14:47:10,098: Credentials are already in use. The existing account in the session will be replaced.\n"
     ]
    },
    {
     "name": "stdout",
     "output_type": "stream",
     "text": [
      "Running on current least busy device:  ibmqx2\n",
      "Job Status: job has successfully run\n"
     ]
    }
   ],
   "source": [
    "provider = IBMQ.load_account()\n",
    "device = least_busy(provider.backends(simulator=False))\n",
    "print(\"Running on current least busy device: \", device)\n",
    "\n",
    "from qiskit.tools.monitor import job_monitor\n",
    "job = execute(test_circuit, backend=device, shots=1000, max_credits=10)\n",
    "job_monitor(job, interval = 2)"
   ]
  },
  {
   "cell_type": "code",
   "execution_count": 26,
   "metadata": {},
   "outputs": [
    {
     "data": {
      "image/png": "[encoded data removed]",
      "text/plain": [
       "<Figure size 504x360 with 1 Axes>"
      ]
     },
     "execution_count": 26,
     "metadata": {},
     "output_type": "execute_result"
    }
   ],
   "source": [
    "answer = results.get_counts(test_circuit)\n",
    "plot_histogram(answer)"
   ]
  },
  {
   "cell_type": "code",
   "execution_count": null,
   "metadata": {},
   "outputs": [],
   "source": []
  }
 ],
 "metadata": {
  "kernelspec": {
   "display_name": "Python 3",
   "language": "python",
   "name": "python3"
  },
  "language_info": {
   "codemirror_mode": {
    "name": "ipython",
    "version": 3
   },
   "file_extension": ".py",
   "mimetype": "text/x-python",
   "name": "python",
   "nbconvert_exporter": "python",
   "pygments_lexer": "ipython3",
   "version": "3.7.2"
  }
 },
 "nbformat": 4,
 "nbformat_minor": 2
}
