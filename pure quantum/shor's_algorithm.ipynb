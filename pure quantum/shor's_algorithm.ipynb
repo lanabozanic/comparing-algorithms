{
 "cells": [
  {
   "cell_type": "code",
   "execution_count": 5,
   "metadata": {},
   "outputs": [],
   "source": [
    "import matplotlib.pyplot as plt\n",
    "%matplotlib inline\n",
    "import numpy as np\n",
    "\n",
    "from qiskit import *\n",
    "from qiskit.providers.ibmq import least_busy\n",
    "from qiskit.quantum_info import Operator\n",
    "from qiskit import QuantumCircuit\n",
    "from qiskit.circuit.library import QFT"
   ]
  },
  {
   "cell_type": "markdown",
   "metadata": {},
   "source": [
    "### Define components of algorithm"
   ]
  },
  {
   "cell_type": "code",
   "execution_count": 2,
   "metadata": {},
   "outputs": [],
   "source": [
    "def initialize_qubits(given_circuit, n, m):\n",
    "    \n",
    "    given_circuit.h(range(n))\n",
    "    given_circuit.x(n+m-1)"
   ]
  },
  {
   "cell_type": "code",
   "execution_count": 3,
   "metadata": {},
   "outputs": [],
   "source": [
    "# Define modular exponentiation \n",
    "\n",
    "def a_x_mod15(a, x):\n",
    "    if a not in [2,7,8,11,13]:\n",
    "        raise ValueError(\"'a' must be 2,7,8,11 or 13\")\n",
    "    U = QuantumCircuit(4)        \n",
    "    for iteration in range(x):\n",
    "        if a in [2,13]:\n",
    "            U.swap(0,1)\n",
    "            U.swap(1,2)\n",
    "            U.swap(2,3)\n",
    "        if a in [7,8]:\n",
    "            U.swap(2,3)\n",
    "            U.swap(1,2)\n",
    "            U.swap(0,1)\n",
    "        if a == 11:\n",
    "            U.swap(1,3)\n",
    "            U.swap(0,2)\n",
    "        if a in [7,11,13]:\n",
    "            for q in range(4):\n",
    "                U.x(q)\n",
    "    U = U.to_gate()\n",
    "    U.name = \"%i^%i mod 15\" % (a, x)\n",
    "    c_U = U.control()\n",
    "    return c_U"
   ]
  },
  {
   "cell_type": "code",
   "execution_count": 4,
   "metadata": {},
   "outputs": [],
   "source": [
    "def modular_exponentiation(given_circuit, n, m, a):\n",
    "    \n",
    "    for x in range(n):\n",
    "        given_circuit.append(a_x_mod15(a, 2**x), [x] + list(range(n, n+m)))         "
   ]
  },
  {
   "cell_type": "markdown",
   "metadata": {},
   "source": [
    "### Construct algorithm using components"
   ]
  },
  {
   "cell_type": "code",
   "execution_count": 7,
   "metadata": {},
   "outputs": [
    {
     "data": {
      "text/html": [
       "<pre style=\"word-wrap: normal;white-space: pre;background: #fff0;line-height: 1.1;font-family: &quot;Courier New&quot;,Courier,monospace\">     ┌───┐ ░                                                              ░ »\n",
       "q_0: ┤ H ├─░────────■─────────────────────────────────────────────────────░─»\n",
       "     ├───┤ ░        │                                                     ░ »\n",
       "q_1: ┤ H ├─░────────┼──────────────■──────────────────────────────────────░─»\n",
       "     ├───┤ ░        │              │                                      ░ »\n",
       "q_2: ┤ H ├─░────────┼──────────────┼──────────────■───────────────────────░─»\n",
       "     ├───┤ ░        │              │              │                       ░ »\n",
       "q_3: ┤ H ├─░────────┼──────────────┼──────────────┼──────────────■────────░─»\n",
       "     └───┘ ░ ┌─────┴┼──────┐┌─────┴┼──────┐┌─────┴┼──────┐┌─────┴┼──────┐ ░ »\n",
       "q_4: ──────░─┤0     │      ├┤0     │      ├┤0     │      ├┤0     │      ├─░─»\n",
       "           ░ │             ││             ││             ││             │ ░ »\n",
       "q_5: ──────░─┤1            ├┤1            ├┤1            ├┤1            ├─░─»\n",
       "           ░ │  7^1 mod 15 ││  7^2 mod 15 ││  7^4 mod 15 ││  7^8 mod 15 │ ░ »\n",
       "q_6: ──────░─┤2            ├┤2            ├┤2            ├┤2            ├─░─»\n",
       "     ┌───┐ ░ │             ││             ││             ││             │ ░ »\n",
       "q_7: ┤ X ├─░─┤3            ├┤3            ├┤3            ├┤3            ├─░─»\n",
       "     └───┘ ░ └─────────────┘└─────────────┘└─────────────┘└─────────────┘ ░ »\n",
       "c_0: ═══════════════════════════════════════════════════════════════════════»\n",
       "                                                                            »\n",
       "c_1: ═══════════════════════════════════════════════════════════════════════»\n",
       "                                                                            »\n",
       "c_2: ═══════════════════════════════════════════════════════════════════════»\n",
       "                                                                            »\n",
       "c_3: ═══════════════════════════════════════════════════════════════════════»\n",
       "                                                                            »\n",
       "«     ┌───────┐┌─┐         \n",
       "«q_0: ┤0      ├┤M├─────────\n",
       "«     │       │└╥┘┌─┐      \n",
       "«q_1: ┤1      ├─╫─┤M├──────\n",
       "«     │  iqft │ ║ └╥┘┌─┐   \n",
       "«q_2: ┤2      ├─╫──╫─┤M├───\n",
       "«     │       │ ║  ║ └╥┘┌─┐\n",
       "«q_3: ┤3      ├─╫──╫──╫─┤M├\n",
       "«     └───────┘ ║  ║  ║ └╥┘\n",
       "«q_4: ──────────╫──╫──╫──╫─\n",
       "«               ║  ║  ║  ║ \n",
       "«q_5: ──────────╫──╫──╫──╫─\n",
       "«               ║  ║  ║  ║ \n",
       "«q_6: ──────────╫──╫──╫──╫─\n",
       "«               ║  ║  ║  ║ \n",
       "«q_7: ──────────╫──╫──╫──╫─\n",
       "«               ║  ║  ║  ║ \n",
       "«c_0: ══════════╩══╬══╬══╬═\n",
       "«                  ║  ║  ║ \n",
       "«c_1: ═════════════╩══╬══╬═\n",
       "«                     ║  ║ \n",
       "«c_2: ════════════════╩══╬═\n",
       "«                        ║ \n",
       "«c_3: ═══════════════════╩═\n",
       "«                          </pre>"
      ],
      "text/plain": [
       "     ┌───┐ ░                                                              ░ »\n",
       "q_0: ┤ H ├─░────────■─────────────────────────────────────────────────────░─»\n",
       "     ├───┤ ░        │                                                     ░ »\n",
       "q_1: ┤ H ├─░────────┼──────────────■──────────────────────────────────────░─»\n",
       "     ├───┤ ░        │              │                                      ░ »\n",
       "q_2: ┤ H ├─░────────┼──────────────┼──────────────■───────────────────────░─»\n",
       "     ├───┤ ░        │              │              │                       ░ »\n",
       "q_3: ┤ H ├─░────────┼──────────────┼──────────────┼──────────────■────────░─»\n",
       "     └───┘ ░ ┌─────┴┼──────┐┌─────┴┼──────┐┌─────┴┼──────┐┌─────┴┼──────┐ ░ »\n",
       "q_4: ──────░─┤0     │      ├┤0     │      ├┤0     │      ├┤0     │      ├─░─»\n",
       "           ░ │             ││             ││             ││             │ ░ »\n",
       "q_5: ──────░─┤1            ├┤1            ├┤1            ├┤1            ├─░─»\n",
       "           ░ │  7^1 mod 15 ││  7^2 mod 15 ││  7^4 mod 15 ││  7^8 mod 15 │ ░ »\n",
       "q_6: ──────░─┤2            ├┤2            ├┤2            ├┤2            ├─░─»\n",
       "     ┌───┐ ░ │             ││             ││             ││             │ ░ »\n",
       "q_7: ┤ X ├─░─┤3            ├┤3            ├┤3            ├┤3            ├─░─»\n",
       "     └───┘ ░ └─────────────┘└─────────────┘└─────────────┘└─────────────┘ ░ »\n",
       "c_0: ═══════════════════════════════════════════════════════════════════════»\n",
       "                                                                            »\n",
       "c_1: ═══════════════════════════════════════════════════════════════════════»\n",
       "                                                                            »\n",
       "c_2: ═══════════════════════════════════════════════════════════════════════»\n",
       "                                                                            »\n",
       "c_3: ═══════════════════════════════════════════════════════════════════════»\n",
       "                                                                            »\n",
       "«     ┌───────┐┌─┐         \n",
       "«q_0: ┤0      ├┤M├─────────\n",
       "«     │       │└╥┘┌─┐      \n",
       "«q_1: ┤1      ├─╫─┤M├──────\n",
       "«     │  iqft │ ║ └╥┘┌─┐   \n",
       "«q_2: ┤2      ├─╫──╫─┤M├───\n",
       "«     │       │ ║  ║ └╥┘┌─┐\n",
       "«q_3: ┤3      ├─╫──╫──╫─┤M├\n",
       "«     └───────┘ ║  ║  ║ └╥┘\n",
       "«q_4: ──────────╫──╫──╫──╫─\n",
       "«               ║  ║  ║  ║ \n",
       "«q_5: ──────────╫──╫──╫──╫─\n",
       "«               ║  ║  ║  ║ \n",
       "«q_6: ──────────╫──╫──╫──╫─\n",
       "«               ║  ║  ║  ║ \n",
       "«q_7: ──────────╫──╫──╫──╫─\n",
       "«               ║  ║  ║  ║ \n",
       "«c_0: ══════════╩══╬══╬══╬═\n",
       "«                  ║  ║  ║ \n",
       "«c_1: ═════════════╩══╬══╬═\n",
       "«                     ║  ║ \n",
       "«c_2: ════════════════╩══╬═\n",
       "«                        ║ \n",
       "«c_3: ═══════════════════╩═\n",
       "«                          "
      ]
     },
     "execution_count": 7,
     "metadata": {},
     "output_type": "execute_result"
    }
   ],
   "source": [
    "def shor_program(n, m, a):\n",
    "    \n",
    "    # set up quantum circuit\n",
    "    shor = QuantumCircuit(n+m, n)\n",
    "    \n",
    "    # initialize the qubits\n",
    "    initialize_qubits(shor, n, m)\n",
    "    shor.barrier()\n",
    "\n",
    "    # apply modular exponentiation\n",
    "    modular_exponentiation(shor, n, m, a)\n",
    "    shor.barrier()\n",
    "\n",
    "    # apply inverse QFT\n",
    "    apply_iqft(shor, range(n))\n",
    "\n",
    "    # measure the first n qubits\n",
    "    shor.measure(range(n), range(n))\n",
    "    \n",
    "    return shor\n",
    "    \n",
    "n = 4; m = 4; a = 7\n",
    "mycircuit = shor_program(n, m, a)\n",
    "mycircuit.draw(output='text')"
   ]
  },
  {
   "cell_type": "code",
   "execution_count": 8,
   "metadata": {},
   "outputs": [
    {
     "data": {
      "image/png": "[encoded data removed]",
      "text/plain": [
       "<Figure size 504x360 with 1 Axes>"
      ]
     },
     "execution_count": 8,
     "metadata": {},
     "output_type": "execute_result"
    }
   ],
   "source": [
    "simulator = Aer.get_backend('qasm_simulator')\n",
    "counts = execute(mycircuit, backend=simulator, shots=1000).result().get_counts(mycircuit)\n",
    "from qiskit.visualization import plot_histogram\n",
    "plot_histogram(counts)"
   ]
  },
  {
   "cell_type": "code",
   "execution_count": 9,
   "metadata": {},
   "outputs": [
    {
     "name": "stdout",
     "output_type": "stream",
     "text": [
      "Measured 0\n",
      "Measured 12\n",
      "Measured 8\n",
      "Measured 4\n"
     ]
    }
   ],
   "source": [
    "for measured_value in counts:\n",
    "    print(f\"Measured {int(measured_value[::-1], 2)}\")"
   ]
  },
  {
   "cell_type": "code",
   "execution_count": 10,
   "metadata": {
    "scrolled": true
   },
   "outputs": [
    {
     "name": "stdout",
     "output_type": "stream",
     "text": [
      "Measured 0\n",
      "(1, 15)\n",
      "Measured 12\n",
      "(5, 3)\n",
      "Measured 8\n",
      "(1, 15)\n",
      "Measured 4\n",
      "(5, 3)\n"
     ]
    }
   ],
   "source": [
    "# Classical post-processing\n",
    "\n",
    "from math import gcd\n",
    "\n",
    "for measured_value in counts:\n",
    "    measured_value_decimal = int(measured_value[::-1], 2)\n",
    "    print(f\"Measured {measured_value_decimal}\")\n",
    "    \n",
    "    if measured_value_decimal % 2 != 0:\n",
    "        print(\"Failed. Measured value is not an even number\")\n",
    "        continue\n",
    "    x = int((a ** (measured_value_decimal/2)) % 15)\n",
    "    if (x + 1) % 15 == 0:\n",
    "        print(\"Failed. x + 1 = 0 (mod N) where x = a^(r/2) (mod N)\")\n",
    "        continue\n",
    "    guesses = gcd(x + 1, 15), gcd(x - 1, 15)\n",
    "    print(guesses)"
   ]
  }
 ],
 "metadata": {
  "kernelspec": {
   "display_name": "Python 3",
   "language": "python",
   "name": "python3"
  },
  "language_info": {
   "codemirror_mode": {
    "name": "ipython",
    "version": 3
   },
   "file_extension": ".py",
   "mimetype": "text/x-python",
   "name": "python",
   "nbconvert_exporter": "python",
   "pygments_lexer": "ipython3",
   "version": "3.7.2"
  }
 },
 "nbformat": 4,
 "nbformat_minor": 2
}
