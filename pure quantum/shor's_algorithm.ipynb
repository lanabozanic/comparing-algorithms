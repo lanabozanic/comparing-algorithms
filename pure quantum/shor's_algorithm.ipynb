{
 "cells": [
  {
   "cell_type": "code",
   "execution_count": 3,
   "metadata": {},
   "outputs": [],
   "source": [
    "import matplotlib.pyplot as plt\n",
    "%matplotlib inline\n",
    "import numpy as np\n",
    "\n",
    "from qiskit import *\n",
    "from qiskit.providers.ibmq import least_busy\n",
    "from qiskit.quantum_info import Operator\n",
    "from qiskit import QuantumCircuit\n",
    "from qiskit.circuit.library import QFT"
   ]
  },
  {
   "cell_type": "markdown",
   "metadata": {},
   "source": [
    "## General use case using qiskit function \n",
    "\n",
    "Note from [qiskit documentation](https://qiskit.org/documentation/stubs/qiskit.aqua.algorithms.Shor.html):\n",
    "\n",
    "The input integer N to be factored is expected to be odd and greater than 2. Even though this implementation is general, its capability will be limited by the capacity of the simulator/hardware. Another input integer a can also be supplied, which needs to be a co-prime smaller than N."
   ]
  },
  {
   "cell_type": "code",
   "execution_count": 4,
   "metadata": {},
   "outputs": [],
   "source": [
    "from qiskit.aqua.algorithms import Shor\n",
    "from qiskit.aqua import QuantumInstance"
   ]
  },
  {
   "cell_type": "code",
   "execution_count": 82,
   "metadata": {},
   "outputs": [],
   "source": [
    "lst = [3, 5, 7, 9, 11, 13, 15, 17, 19]"
   ]
  },
  {
   "cell_type": "code",
   "execution_count": 85,
   "metadata": {},
   "outputs": [
    {
     "name": "stdout",
     "output_type": "stream",
     "text": [
      "\n",
      "3qubits case\n",
      "factors=[]\n",
      "3 qubit times = [3.8016672134399414]\n",
      "factors=[]\n",
      "3 qubit times = [4.010535955429077]\n",
      "factors=[]\n",
      "3 qubit times = [4.042552471160889]\n",
      "factors=[]\n",
      "3 qubit times = [4.6841301918029785]\n",
      "factors=[]\n",
      "3 qubit times = [4.009852886199951]\n",
      "\n",
      "5qubits case\n",
      "factors=[]\n",
      "5 qubit times = [27.72439670562744]\n",
      "factors=[]\n",
      "5 qubit times = [26.576203107833862]\n",
      "factors=[]\n",
      "5 qubit times = [26.03904366493225]\n",
      "factors=[]\n",
      "5 qubit times = [26.353826761245728]\n",
      "factors=[]\n",
      "5 qubit times = [26.972954988479614]\n",
      "\n",
      "7qubits case\n",
      "factors=[]\n",
      "7 qubit times = [26.320043325424194]\n",
      "factors=[]\n",
      "7 qubit times = [26.718579053878784]\n",
      "factors=[]\n",
      "7 qubit times = [25.64811658859253]\n",
      "factors=[]\n",
      "7 qubit times = [26.830878496170044]\n",
      "factors=[]\n",
      "7 qubit times = [26.270915985107422]\n",
      "\n",
      "9qubits case\n",
      "factors=[3]\n",
      "9 qubit times = [0.0]\n",
      "factors=[3]\n",
      "9 qubit times = [0.0]\n",
      "factors=[3]\n",
      "9 qubit times = [0.0]\n",
      "factors=[3]\n",
      "9 qubit times = [0.0]\n",
      "factors=[3]\n",
      "9 qubit times = [0.0]\n",
      "\n",
      "11qubits case\n",
      "factors=[]\n",
      "11 qubit times = [112.98926854133606]\n",
      "factors=[]\n",
      "11 qubit times = [113.39033770561218]\n",
      "factors=[]\n",
      "11 qubit times = [114.59925675392151]\n",
      "factors=[]\n",
      "11 qubit times = [116.6540915966034]\n",
      "factors=[]\n",
      "11 qubit times = [114.56113052368164]\n",
      "\n",
      "13qubits case\n",
      "factors=[]\n",
      "13 qubit times = [112.63804507255554]\n",
      "factors=[]\n",
      "13 qubit times = [111.268239736557]\n",
      "factors=[]\n",
      "13 qubit times = [110.16712522506714]\n",
      "factors=[]\n",
      "13 qubit times = [111.81890821456909]\n",
      "factors=[]\n",
      "13 qubit times = [113.01144623756409]\n",
      "\n",
      "15qubits case\n",
      "factors=[[3, 5]]\n",
      "15 qubit times = [110.81357598304749]\n",
      "factors=[[3, 5]]\n",
      "15 qubit times = [0.0009984970092773438]\n",
      "factors=[[3, 5]]\n",
      "15 qubit times = [0.0]\n",
      "factors=[[3, 5]]\n",
      "15 qubit times = [0.0]\n",
      "factors=[[3, 5]]\n",
      "15 qubit times = [0.0]\n",
      "\n",
      "17qubits case\n",
      "factors=[]\n",
      "17 qubit times = [445.5097496509552]\n",
      "factors=[]\n",
      "17 qubit times = [446.10193610191345]\n",
      "factors=[]\n",
      "17 qubit times = [442.54170513153076]\n",
      "factors=[]\n",
      "17 qubit times = [678.6781706809998]\n",
      "factors=[]\n",
      "17 qubit times = [440.8510847091675]\n",
      "\n",
      "19qubits case\n",
      "factors=[]\n",
      "19 qubit times = [439.31331276893616]\n",
      "factors=[]\n",
      "19 qubit times = [433.19384694099426]\n",
      "factors=[]\n",
      "19 qubit times = [34696.987013578415]\n",
      "factors=[]\n",
      "19 qubit times = [444.64580368995667]\n",
      "factors=[]\n",
      "19 qubit times = [451.8694484233856]\n"
     ]
    }
   ],
   "source": [
    "for n in lst:\n",
    "    \n",
    "    # Define Shor's algorithm and backend\n",
    "    shor = Shor(n)\n",
    "    backend = Aer.get_backend('qasm_simulator')\n",
    "    \n",
    "    print()\n",
    "    print(str(n) + 'qubits case')\n",
    "\n",
    "    for i in range(5): \n",
    "\n",
    "        benchmark_times = []\n",
    "    \n",
    "        # Time the simulation runtime and store values\n",
    "        import time\n",
    "        start_time = time.time()\n",
    "\n",
    "        result_dict = shor.run(QuantumInstance(backend, shots=1, skip_qobj_validation=False))\n",
    "        result = result_dict['factors']\n",
    "\n",
    "        benchmark_times.append(time.time() - start_time)\n",
    "\n",
    "        print('factors='+ str(result))\n",
    "        print(str(n) + ' qubit times = ' + str(benchmark_times))"
   ]
  },
  {
   "cell_type": "code",
   "execution_count": 88,
   "metadata": {},
   "outputs": [
    {
     "name": "stdout",
     "output_type": "stream",
     "text": [
      "\n",
      "9qubits case\n",
      "factors=[3]\n",
      "9 qubit times = [0.0010004043579101562]\n",
      "factors=[3]\n",
      "9 qubit times = [0.0]\n",
      "factors=[3]\n",
      "9 qubit times = [0.0]\n",
      "factors=[3]\n",
      "9 qubit times = [0.0]\n",
      "factors=[3]\n",
      "9 qubit times = [0.0]\n"
     ]
    }
   ],
   "source": [
    "n = 9\n",
    "    \n",
    "# Define Shor's algorithm and backend\n",
    "shor = Shor(n)\n",
    "backend = Aer.get_backend('qasm_simulator')\n",
    "    \n",
    "print()\n",
    "print(str(n) + 'qubits case')\n",
    "\n",
    "for i in range(5): \n",
    "\n",
    "    benchmark_times = []\n",
    "\n",
    "    # Time the simulation runtime and store values\n",
    "    import time\n",
    "    start_time = time.time()\n",
    "\n",
    "    result_dict = shor.run(QuantumInstance(backend, shots=1, skip_qobj_validation=False))\n",
    "    result = result_dict['factors']\n",
    "\n",
    "    benchmark_times.append(time.time() - start_time)\n",
    "\n",
    "    print('factors='+ str(result))\n",
    "    print(str(n) + ' qubit times = ' + str(benchmark_times))"
   ]
  },
  {
   "cell_type": "code",
   "execution_count": 6,
   "metadata": {},
   "outputs": [
    {
     "name": "stdout",
     "output_type": "stream",
     "text": [
      "\n",
      "15qubits case\n",
      "factors=[[3, 5]]\n",
      "15 qubit times = [130.11084914207458]\n",
      "factors=[[3, 5]]\n",
      "15 qubit times = [0.0]\n",
      "factors=[[3, 5]]\n",
      "15 qubit times = [0.0]\n",
      "factors=[[3, 5]]\n",
      "15 qubit times = [0.0]\n",
      "factors=[[3, 5]]\n",
      "15 qubit times = [0.0]\n"
     ]
    }
   ],
   "source": [
    "# Define Shor's algorithm and backend\n",
    "n = 15\n",
    "shor = Shor(n)\n",
    "backend = Aer.get_backend('qasm_simulator')\n",
    "    \n",
    "print()\n",
    "print(str(n) + 'qubits case')\n",
    "\n",
    "for i in range(5): \n",
    "    benchmark_times = []\n",
    "    \n",
    "    # Time the simulation runtime and store values\n",
    "    import time\n",
    "    start_time = time.time()\n",
    "\n",
    "    result_dict = shor.run(QuantumInstance(backend, shots=1, skip_qobj_validation=False))\n",
    "    result = result_dict['factors']\n",
    "\n",
    "    benchmark_times.append(time.time() - start_time)\n",
    "\n",
    "    print('factors='+ str(result))\n",
    "    print(str(n) + ' qubit times = ' + str(benchmark_times))"
   ]
  },
  {
   "cell_type": "markdown",
   "metadata": {},
   "source": [
    "## Specific use case with functions"
   ]
  },
  {
   "cell_type": "markdown",
   "metadata": {},
   "source": [
    "### Define components of algorithm "
   ]
  },
  {
   "cell_type": "code",
   "execution_count": null,
   "metadata": {},
   "outputs": [],
   "source": [
    "# N is the number of measurement qubits and m is the number of target qubits for the unitary operator\n",
    "def initialize_qubits(given_circuit, n, m):\n",
    "    \n",
    "    given_circuit.h(range(n))\n",
    "    given_circuit.x(n+m-1)"
   ]
  },
  {
   "cell_type": "code",
   "execution_count": null,
   "metadata": {},
   "outputs": [],
   "source": [
    "# Define modular exponentiation \n",
    "\n",
    "def a_x_mod15(a, x):\n",
    "    if a not in [2,7,8,11,13]:\n",
    "        raise ValueError(\"'a' must be 2,7,8,11 or 13\")\n",
    "    U = QuantumCircuit(4)        \n",
    "    for iteration in range(x):\n",
    "        if a in [2,13]:\n",
    "            U.swap(0,1)\n",
    "            U.swap(1,2)\n",
    "            U.swap(2,3)\n",
    "        if a in [7,8]:\n",
    "            U.swap(2,3)\n",
    "            U.swap(1,2)\n",
    "            U.swap(0,1)\n",
    "        if a == 11:\n",
    "            U.swap(1,3)\n",
    "            U.swap(0,2)\n",
    "        if a in [7,11,13]:\n",
    "            for q in range(4):\n",
    "                U.x(q)\n",
    "    U = U.to_gate()\n",
    "    U.name = \"%i^%i mod 15\" % (a, x)\n",
    "    c_U = U.control()\n",
    "    return c_U"
   ]
  },
  {
   "cell_type": "code",
   "execution_count": null,
   "metadata": {},
   "outputs": [],
   "source": [
    "def modular_exponentiation(given_circuit, n, m, a):\n",
    "    \n",
    "    for x in range(n):\n",
    "        given_circuit.append(a_x_mod15(a, 2**x), [x] + list(range(n, n+m)))         "
   ]
  },
  {
   "cell_type": "code",
   "execution_count": null,
   "metadata": {},
   "outputs": [],
   "source": [
    "def apply_iqft(given_circuit, measurement_qubits):\n",
    "   \n",
    "    given_circuit.append(QFT( len(measurement_qubits), do_swaps=False).inverse(), measurement_qubits)"
   ]
  },
  {
   "cell_type": "markdown",
   "metadata": {},
   "source": [
    "### Construct algorithm using components"
   ]
  },
  {
   "cell_type": "code",
   "execution_count": null,
   "metadata": {},
   "outputs": [],
   "source": [
    "def shor_program(n, m, a):\n",
    "    \n",
    "    # set up quantum circuit\n",
    "    shor = QuantumCircuit(n+m, n)\n",
    "    \n",
    "    # initialize the qubits\n",
    "    initialize_qubits(shor, n, m)\n",
    "    shor.barrier()\n",
    "\n",
    "    # apply modular exponentiation\n",
    "    modular_exponentiation(shor, n, m, a)\n",
    "    shor.barrier()\n",
    "\n",
    "    # apply inverse QFT\n",
    "    apply_iqft(shor, range(n))\n",
    "\n",
    "    # measure the first n qubits\n",
    "    shor.measure(range(n), range(n))\n",
    "    \n",
    "    return shor\n",
    "    \n",
    "n = 4; m = 4; a = 7\n",
    "mycircuit = shor_program(n, m, a)\n",
    "mycircuit.draw(output='text')"
   ]
  },
  {
   "cell_type": "code",
   "execution_count": null,
   "metadata": {},
   "outputs": [],
   "source": [
    "simulator = Aer.get_backend('qasm_simulator')\n",
    "counts = execute(mycircuit, backend=simulator, shots=1000).result().get_counts(mycircuit)\n",
    "from qiskit.visualization import plot_histogram\n",
    "plot_histogram(counts)"
   ]
  },
  {
   "cell_type": "code",
   "execution_count": null,
   "metadata": {},
   "outputs": [],
   "source": [
    "for measured_value in counts:\n",
    "    print(f\"Measured {int(measured_value[::-1], 2)}\")"
   ]
  },
  {
   "cell_type": "code",
   "execution_count": null,
   "metadata": {
    "scrolled": true
   },
   "outputs": [],
   "source": [
    "# Classical post-processing\n",
    "\n",
    "from math import gcd\n",
    "\n",
    "for measured_value in counts:\n",
    "    measured_value_decimal = int(measured_value[::-1], 2)\n",
    "    print(f\"Measured {measured_value_decimal}\")\n",
    "    \n",
    "    if measured_value_decimal % 2 != 0:\n",
    "        print(\"Failed. Measured value is not an even number\")\n",
    "        continue\n",
    "    x = int((a ** (measured_value_decimal/2)) % 15)\n",
    "    if (x + 1) % 15 == 0:\n",
    "        print(\"Failed. x + 1 = 0 (mod N) where x = a^(r/2) (mod N)\")\n",
    "        continue\n",
    "    guesses = gcd(x + 1, 15), gcd(x - 1, 15)\n",
    "    print(guesses)"
   ]
  }
 ],
 "metadata": {
  "kernelspec": {
   "display_name": "Python 3",
   "language": "python",
   "name": "python3"
  },
  "language_info": {
   "codemirror_mode": {
    "name": "ipython",
    "version": 3
   },
   "file_extension": ".py",
   "mimetype": "text/x-python",
   "name": "python",
   "nbconvert_exporter": "python",
   "pygments_lexer": "ipython3",
   "version": "3.7.2"
  }
 },
 "nbformat": 4,
 "nbformat_minor": 2
}
